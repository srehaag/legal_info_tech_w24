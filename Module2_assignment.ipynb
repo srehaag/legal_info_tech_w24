{
  "nbformat": 4,
  "nbformat_minor": 0,
  "metadata": {
    "colab": {
      "provenance": [],
      "authorship_tag": "ABX9TyOnsUosZhv7mtpLQDegsNBk",
      "include_colab_link": true
    },
    "kernelspec": {
      "name": "python3",
      "display_name": "Python 3"
    },
    "language_info": {
      "name": "python"
    }
  },
  "cells": [
    {
      "cell_type": "markdown",
      "metadata": {
        "id": "view-in-github",
        "colab_type": "text"
      },
      "source": [
        "<a href=\"https://colab.research.google.com/github/srehaag/legal_info_tech_w24/blob/main/Module2_assignment.ipynb\" target=\"_parent\"><img src=\"https://colab.research.google.com/assets/colab-badge.svg\" alt=\"Open In Colab\"/></a>"
      ]
    },
    {
      "cell_type": "markdown",
      "source": [
        "# Module 2: Assignment"
      ],
      "metadata": {
        "id": "eFCArjxeHuR8"
      }
    },
    {
      "cell_type": "markdown",
      "source": [
        "**Instructions**\n",
        "\n",
        "Everyone should attempt to complete the beginner section. If you are interested you can continue to intermediate and advanced. Whether you choose to go beyond the beginner section will not affect your participation grade, but some of the skills you learn (or relearn) may be helpful for your final project for the course.\n",
        "\n",
        "In addition, everyone should complete the final reflection section.\n",
        "\n",
        "Combined, the lesson and assignment should not take you more than three hours -- so if you get to that point, just move on to the reflective section.\n",
        "\n",
        "When you have finished, upload a copy of the .ipynb file to eClass assignment page."
      ],
      "metadata": {
        "id": "MxZsmxPBH-Q1"
      }
    },
    {
      "cell_type": "markdown",
      "source": [
        "### Beginner Question 1:\n",
        "\n",
        "Create a text file called hello.txt with the contents:\n",
        "\n",
        "Hello World!"
      ],
      "metadata": {
        "id": "XZwaYTu8IGOM"
      }
    },
    {
      "cell_type": "code",
      "source": [],
      "metadata": {
        "id": "Eq60bwrDWQGe"
      },
      "execution_count": null,
      "outputs": []
    },
    {
      "cell_type": "markdown",
      "source": [
        "### Beginner Question 2:\n",
        "\n",
        "Find a course summary (yours or one that you find online) for an Osgoode Hall Law School course in MS Word docx format.\n",
        "\n",
        "Extract the text of the document into a variable called: course_summary_text\n",
        "\n",
        "Print the first 500 characters of the course_summary_text variable"
      ],
      "metadata": {
        "id": "Ca5ARYegWQ_W"
      }
    },
    {
      "cell_type": "code",
      "source": [],
      "metadata": {
        "id": "0wyzhXh7ovTQ"
      },
      "execution_count": null,
      "outputs": []
    },
    {
      "cell_type": "markdown",
      "source": [
        "### Beginner Question 3:\n",
        "\n",
        "Create a pandas dataframe using data about refugee claims decided in 2019 available here:\n",
        "\n",
        "https://refugeelab.ca/wp-content/uploads/2024/01/2019_RPD_Data.xlsx\n",
        "\n",
        "Using the dataframe, list the 5 lawyers who were involved in the largest number of claims in 2019."
      ],
      "metadata": {
        "id": "Jvp-e9yOQeiV"
      }
    },
    {
      "cell_type": "code",
      "source": [],
      "metadata": {
        "id": "BvNrJhqXRcfF"
      },
      "execution_count": null,
      "outputs": []
    },
    {
      "cell_type": "markdown",
      "source": [
        "### Beginner Question 4:\n",
        "\n",
        "Load the Refugee Law Lab's Canadian Human Rights Tribunal Bulk Decisions Dataset using [Hugging Face Datasets](https://huggingface.co/datasets/refugee-law-lab/canadian-legal-data\"). Convert the dataset to a pandas dataframe. Then list the number of CHRT decisions for each year in the dataset.\n",
        "\n",
        "You can find additional information about this dataset [here](https://refugeelab.ca/bulk-data\")."
      ],
      "metadata": {
        "id": "pf2UXletSIQu"
      }
    },
    {
      "cell_type": "code",
      "source": [],
      "metadata": {
        "id": "FaR-6FNRU6dm"
      },
      "execution_count": null,
      "outputs": []
    },
    {
      "cell_type": "markdown",
      "source": [
        "### Intermediate Question 1:\n",
        "\n",
        "Using the same dataframe about refugee claims in 2019 from Beginner Question 3, filter the dataframe so that it only includes positive and negative decisions (excluding claims that were otherwise resolved).\n",
        "\n",
        "Positive decisions include the following:\n",
        "\n",
        "\n",
        "*   Positive\n",
        "*   Expedited Positive\n",
        "\n",
        "Negative decisions include the following:\n",
        "\n",
        "*   Negative\n",
        "*   Neg. No Cred Basis\n",
        "\n",
        "Using the filtered dataframe, caculate and print the recognition rate (proportion of positive relative to the sum of positive and negative) for the twenty highest volume lawyers."
      ],
      "metadata": {
        "id": "szBeP6bzXXGW"
      }
    },
    {
      "cell_type": "code",
      "source": [],
      "metadata": {
        "id": "OQKLzSJWhg6f"
      },
      "execution_count": null,
      "outputs": []
    },
    {
      "cell_type": "markdown",
      "source": [
        "### Intermediate Question 2:\n",
        "\n",
        "The Department of Justice offers programmatic access to legislation here:\n",
        "\n",
        "Individual legislation via xml links: https://open.canada.ca/data/en/dataset/eb0dee21-9123-4d0d-b11d-0763fa1fb403\n",
        "\n",
        "Bulk access via ftp: https://open.canada.ca/data/en/dataset/ff56de85-f8b9-4719-8dff-ecf362adf0af/resource/753fdf81-6030-4d55-a1ec-d5345b6b1234  \n",
        "\n",
        "Using one or the other, put the text of the  *Genetic Non-Discrimination Act* into a variable called target_statute, and print that variable."
      ],
      "metadata": {
        "id": "Hr4g6bKchkAH"
      }
    },
    {
      "cell_type": "code",
      "source": [],
      "metadata": {
        "id": "ZpdRUKkBmqTJ"
      },
      "execution_count": null,
      "outputs": []
    },
    {
      "cell_type": "markdown",
      "source": [
        "### Advanced Question 1:\n",
        "\n",
        "Scrape the biographies of all judges on the Supreme Court of Canada [website](https://www.scc-csc.ca/judges-juges/cfpju-jupp-eng.aspx), and put them into a dataframe that includes the name of the judge, the date of appointment, the date of departure (if applicable), the biography, and the URL where the biography can be found.\n",
        "\n",
        "Some hints regarding webscraping in Python:\n",
        "\n",
        "*   Use requests (requests.get(url).content) to get html\n",
        "*   Use a python package (such as beautifulsoup) to parse the html\n"
      ],
      "metadata": {
        "id": "vuRR79MLmreY"
      }
    },
    {
      "cell_type": "code",
      "source": [],
      "metadata": {
        "id": "P5UOlpRGAPvz"
      },
      "execution_count": null,
      "outputs": []
    },
    {
      "cell_type": "markdown",
      "source": [
        "### Reflection\n",
        "\n",
        "If you could work with any legal data programmatically what data would you like to have access to?\n",
        "\n",
        "Does that data currently exist in a publicly accessible format that can be easily integrated into Python programs?\n",
        "\n",
        "If not, why not?"
      ],
      "metadata": {
        "id": "B1dB6sivAgx6"
      }
    },
    {
      "cell_type": "markdown",
      "source": [],
      "metadata": {
        "id": "wZsK_nMhBTTL"
      }
    }
  ]
}