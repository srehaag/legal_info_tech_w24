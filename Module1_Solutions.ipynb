{
  "nbformat": 4,
  "nbformat_minor": 0,
  "metadata": {
    "colab": {
      "provenance": [],
      "authorship_tag": "ABX9TyPOcLhN3eS+ZxaOSp0x4bJv",
      "include_colab_link": true
    },
    "kernelspec": {
      "name": "python3",
      "display_name": "Python 3"
    },
    "language_info": {
      "name": "python"
    }
  },
  "cells": [
    {
      "cell_type": "markdown",
      "metadata": {
        "id": "view-in-github",
        "colab_type": "text"
      },
      "source": [
        "<a href=\"https://colab.research.google.com/github/srehaag/legal_info_tech_w24/blob/main/Module1_Solutions.ipynb\" target=\"_parent\"><img src=\"https://colab.research.google.com/assets/colab-badge.svg\" alt=\"Open In Colab\"/></a>"
      ]
    },
    {
      "cell_type": "markdown",
      "source": [
        "# Module 1: Assignment Solutions"
      ],
      "metadata": {
        "id": "j53IMWZWhfDK"
      }
    },
    {
      "cell_type": "markdown",
      "source": [
        "There isn't usually just one way to solve a coding problem. This notebook offers some examples of how you might approach the module 1 assignment questions -- but these are not the only possible approaches.\n",
        "\n",
        "Recall that modules are graded as a compoent of particiaption grades on a fail, pass, high pass basis. Students receive a high pass if they make a meaningful effort to complete the module. Pass grades are where students mostly complete the assignment but should have put more effort into the assignment. And fail is where the assignment is not mostly complete and insufficient effort was put into the assignment.\n",
        "\n",
        "If you would like further feedback on your completed assignment, including invidivualized feedback on your coding, please drop in during the \"Study with me\" sessions, or reach out by email."
      ],
      "metadata": {
        "id": "SBuT-jilhhaa"
      }
    },
    {
      "cell_type": "markdown",
      "source": [
        "## Beginner"
      ],
      "metadata": {
        "id": "1MqdEStpjxTi"
      }
    },
    {
      "cell_type": "markdown",
      "source": [
        "### Beginner Question 1:\n",
        "\n",
        "Using the code cell below, print Hello World."
      ],
      "metadata": {
        "id": "fp6BDkzWibvp"
      }
    },
    {
      "cell_type": "code",
      "source": [
        "print(\"Hello World\")"
      ],
      "metadata": {
        "id": "GvFJLRaxibBC",
        "colab": {
          "base_uri": "https://localhost:8080/"
        },
        "outputId": "b2caf2a1-6da7-4dcb-aef9-ea4f18168632"
      },
      "execution_count": null,
      "outputs": [
        {
          "output_type": "stream",
          "name": "stdout",
          "text": [
            "Hello World\n"
          ]
        }
      ]
    },
    {
      "cell_type": "markdown",
      "source": [
        "### Beginner Question 2:\n",
        "\n",
        "In 1867 Canada was established through the Constitution Act, 1867 (formerly known as the British North America Act). In 1982, Canada repatriated its constitution through the Constitution Act, 1982 (assume for the sake of simplicity that they came into effect on the same day of the year).\n",
        "\n",
        "In the code cell below, create a variable with the year Canada was established.\n",
        "\n",
        "Then create a variable with the year the Constitution was repatriated.\n",
        "\n",
        "Then create a variable that stores the calculated result of the number of years between the first and second variable.\n",
        "\n",
        "Then print: \"Canada's constitution was repatriated # years after the country was first established\"."
      ],
      "metadata": {
        "id": "qLsPjUNepZgS"
      }
    },
    {
      "cell_type": "code",
      "source": [
        "# using str & +\n",
        "\n",
        "Est = 1867\n",
        "Repat = 1982\n",
        "Diff = Repat - Est\n",
        "print(\"Canada's constitution was repatriated \"+str(Diff)+\" years after the country was first established.\")"
      ],
      "metadata": {
        "id": "YQEb0c9xpYtK",
        "colab": {
          "base_uri": "https://localhost:8080/"
        },
        "outputId": "afb1d848-3127-428b-aee3-da2a8f1f6681"
      },
      "execution_count": null,
      "outputs": [
        {
          "output_type": "stream",
          "name": "stdout",
          "text": [
            "Canada's constitution was repatriated 115 years after the country was first established.\n"
          ]
        }
      ]
    },
    {
      "cell_type": "code",
      "source": [
        "# using ,\n",
        "\n",
        "established = 1867\n",
        "repatriated = 1982\n",
        "difference = repatriated - established\n",
        "print (\"Canada's constitution was repatriated\", difference, \"years after the country was first established\")"
      ],
      "metadata": {
        "colab": {
          "base_uri": "https://localhost:8080/"
        },
        "id": "C1MWTgu9CB-q",
        "outputId": "d0cb5b4c-21f4-43b2-acc3-b16144e52779"
      },
      "execution_count": null,
      "outputs": [
        {
          "output_type": "stream",
          "name": "stdout",
          "text": [
            "Canada's constitution was repatriated 115 years after the country was first established\n"
          ]
        }
      ]
    },
    {
      "cell_type": "code",
      "source": [
        "# using f string\n",
        "\n",
        "establishment = 1867\n",
        "repatriation = 1982\n",
        "years_between = repatriation - establishment\n",
        "\n",
        "print (f\"Canada's constitution was repatriated {years_between} years after the country was first established\")"
      ],
      "metadata": {
        "colab": {
          "base_uri": "https://localhost:8080/"
        },
        "id": "_2ZBHtN9azVa",
        "outputId": "61833c11-f62c-405f-a439-d88e8bcfd16d"
      },
      "execution_count": null,
      "outputs": [
        {
          "output_type": "stream",
          "name": "stdout",
          "text": [
            "Canada's constitution was repatriated 115 years after the country was first established\n"
          ]
        }
      ]
    },
    {
      "cell_type": "code",
      "source": [
        "# using format\n",
        "\n",
        "established = 1867\n",
        "repatriated = 1982\n",
        "years_between = repatriated - established\n",
        "print(\"Canada's constitution was repatriated {} years after the country was first established\".format(years_between))"
      ],
      "metadata": {
        "colab": {
          "base_uri": "https://localhost:8080/"
        },
        "id": "ZhDm0wsRXoXa",
        "outputId": "ec306898-101b-4f0b-9ed1-0665eb87ba57"
      },
      "execution_count": null,
      "outputs": [
        {
          "output_type": "stream",
          "name": "stdout",
          "text": [
            "Canada's constitution was repatriated 115 years after the country was first established\n"
          ]
        }
      ]
    },
    {
      "cell_type": "markdown",
      "source": [
        "### Beginner Question 3:\n",
        "\n",
        "The code cell below includes a list of judges deciding five cases. Using this list, produce this output using the print function:\n",
        "\n",
        "Justice Campbell\n",
        "\n",
        "Justice Crampton\n",
        "\n",
        "Justice Grammond... etc\n"
      ],
      "metadata": {
        "id": "WJm5ZIaime-S"
      }
    },
    {
      "cell_type": "code",
      "source": [
        "# using +\n",
        "\n",
        "list_of_judges = [\n",
        "    'Campbell',\n",
        "    'Crampton',\n",
        "    'Grammond',\n",
        "    'Ahmed',\n",
        "    'Pallotta'\n",
        "]\n",
        "\n",
        "for judge in list_of_judges:\n",
        "  print(\"Justice \"+judge)"
      ],
      "metadata": {
        "id": "cwptkzOKnGQC",
        "colab": {
          "base_uri": "https://localhost:8080/"
        },
        "outputId": "a2f2f20d-42bf-4e5a-f2c1-dc3d04b9d8d0"
      },
      "execution_count": null,
      "outputs": [
        {
          "output_type": "stream",
          "name": "stdout",
          "text": [
            "Justice Campbell\n",
            "Justice Crampton\n",
            "Justice Grammond\n",
            "Justice Ahmed\n",
            "Justice Pallotta\n"
          ]
        }
      ]
    },
    {
      "cell_type": "code",
      "source": [
        "# using ,\n",
        "\n",
        "list_of_judges = [\n",
        "    'Campbell',\n",
        "    'Crampton',\n",
        "    'Grammond',\n",
        "    'Ahmed',\n",
        "    'Pallotta'\n",
        "]\n",
        "\n",
        "for judge in list_of_judges:\n",
        "  print(\"Justice\", judge)"
      ],
      "metadata": {
        "colab": {
          "base_uri": "https://localhost:8080/"
        },
        "id": "aFDS76NP4myW",
        "outputId": "591e4731-1d43-4c4e-be3c-e54b4deaba74"
      },
      "execution_count": null,
      "outputs": [
        {
          "output_type": "stream",
          "name": "stdout",
          "text": [
            "Justice Campbell\n",
            "Justice Crampton\n",
            "Justice Grammond\n",
            "Justice Ahmed\n",
            "Justice Pallotta\n"
          ]
        }
      ]
    },
    {
      "cell_type": "code",
      "source": [
        "# using f string\n",
        "\n",
        "list_of_judges = [\n",
        "    'Campbell',\n",
        "    'Crampton',\n",
        "    'Grammond',\n",
        "    'Ahmed',\n",
        "    'Pallotta'\n",
        "]\n",
        "for judge in list_of_judges:\n",
        "  print(f\"Justice {judge}\")"
      ],
      "metadata": {
        "colab": {
          "base_uri": "https://localhost:8080/"
        },
        "id": "FIk01wv1Dzpj",
        "outputId": "99162c61-6af6-403a-e3ba-d784a382b997"
      },
      "execution_count": null,
      "outputs": [
        {
          "output_type": "stream",
          "name": "stdout",
          "text": [
            "Justice Campbell\n",
            "Justice Crampton\n",
            "Justice Grammond\n",
            "Justice Ahmed\n",
            "Justice Pallotta\n"
          ]
        }
      ]
    },
    {
      "cell_type": "code",
      "source": [
        "# using format\n",
        "\n",
        "list_of_judges = [\n",
        "    'Campbell',\n",
        "    'Crampton',\n",
        "    'Grammond',\n",
        "    'Ahmed',\n",
        "    'Pallotta'\n",
        "]\n",
        "\n",
        "for judge in list_of_judges:\n",
        "    print(\"Justice {}\".format(judge))"
      ],
      "metadata": {
        "colab": {
          "base_uri": "https://localhost:8080/"
        },
        "id": "VxcPDyweVG7T",
        "outputId": "a43ad443-2cfd-40be-849d-56ffc82e9521"
      },
      "execution_count": null,
      "outputs": [
        {
          "output_type": "stream",
          "name": "stdout",
          "text": [
            "Justice Campbell\n",
            "Justice Crampton\n",
            "Justice Grammond\n",
            "Justice Ahmed\n",
            "Justice Pallotta\n"
          ]
        }
      ]
    },
    {
      "cell_type": "markdown",
      "source": [
        "### Beginner Question 4:\n",
        "\n",
        "Using the same list as for the prior question, produce the same output as before, but for Crampton indicate \"Chief Justice Crampton\" rather than Justice Crampton. The outputs for the other judges should remain the same."
      ],
      "metadata": {
        "id": "oyOio2R1pc3p"
      }
    },
    {
      "cell_type": "code",
      "source": [
        "# using loop and conditional and +\n",
        "\n",
        "for judge in list_of_judges:\n",
        "  if judge == \"Crampton\":\n",
        "    print(\"Chief Justice \"+judge)\n",
        "  else:\n",
        "    print(\"Justice \"+judge)"
      ],
      "metadata": {
        "id": "wI07-JsxpdAR",
        "colab": {
          "base_uri": "https://localhost:8080/"
        },
        "outputId": "e63ab50c-f3c1-48bc-9c3e-61e881151032"
      },
      "execution_count": null,
      "outputs": [
        {
          "output_type": "stream",
          "name": "stdout",
          "text": [
            "Justice Campbell\n",
            "Chief Justice Crampton\n",
            "Justice Grammond\n",
            "Justice Ahmed\n",
            "Justice Pallotta\n"
          ]
        }
      ]
    },
    {
      "cell_type": "code",
      "source": [
        "# using loop and conditional and ,\n",
        "\n",
        "list_of_judges = [\n",
        "    'Campbell',\n",
        "    'Crampton',\n",
        "    'Grammond',\n",
        "    'Ahmed',\n",
        "    'Pallotta'\n",
        "]\n",
        "for judge in list_of_judges:\n",
        "    if judge == 'Crampton':\n",
        "        print(\"Chief Justice\", judge)\n",
        "    else:\n",
        "        print (\"Justice \" + judge)"
      ],
      "metadata": {
        "colab": {
          "base_uri": "https://localhost:8080/"
        },
        "id": "_hzYDShWCenj",
        "outputId": "59dc3ce8-7a0c-4156-cb08-769d19bb9622"
      },
      "execution_count": null,
      "outputs": [
        {
          "output_type": "stream",
          "name": "stdout",
          "text": [
            "Justice Campbell\n",
            "Chief Justice Crampton\n",
            "Justice Grammond\n",
            "Justice Ahmed\n",
            "Justice Pallotta\n"
          ]
        }
      ]
    },
    {
      "cell_type": "code",
      "source": [
        "# using loop and conditional and f string\n",
        "\n",
        "for judge in list_of_judges:\n",
        "  if judge == \"Crampton\":\n",
        "      print(f\"Chief Justice {judge}\")\n",
        "  else:\n",
        "      print(f\"Justice {judge}\")\n"
      ],
      "metadata": {
        "colab": {
          "base_uri": "https://localhost:8080/"
        },
        "id": "A8WUdps1D8vz",
        "outputId": "6fb83665-ee57-405d-89a8-c7e6d1459496"
      },
      "execution_count": null,
      "outputs": [
        {
          "output_type": "stream",
          "name": "stdout",
          "text": [
            "Justice Campbell\n",
            "Chief Justice Crampton\n",
            "Justice Grammond\n",
            "Justice Ahmed\n",
            "Justice Pallotta\n"
          ]
        }
      ]
    },
    {
      "cell_type": "markdown",
      "source": [
        "### Beginner Question 5:\n",
        "\n",
        "Run the code cell below. It should produce an error message. Fix the code and run it."
      ],
      "metadata": {
        "id": "bnBydme8pgJx"
      }
    },
    {
      "cell_type": "code",
      "source": [
        "# Check if 2024 in citation\n",
        "\n",
        "citation = \"2023 SCC 17\"\n",
        "\n",
        "if \"2024\" in citation:\n",
        "  print(\"Yes 2024 is in the citation\")\n",
        "else:\n",
        "  print(\"No, 2024 is not in the citation\")"
      ],
      "metadata": {
        "id": "fJ7PTXErpgRp",
        "colab": {
          "base_uri": "https://localhost:8080/"
        },
        "outputId": "13437b3b-a10d-439e-f371-e5780f5dc410"
      },
      "execution_count": null,
      "outputs": [
        {
          "output_type": "stream",
          "name": "stdout",
          "text": [
            "No, 2024 is not in the citation\n"
          ]
        }
      ]
    },
    {
      "cell_type": "markdown",
      "source": [
        "## Intermediate"
      ],
      "metadata": {
        "id": "K8jpa6OkR29O"
      }
    },
    {
      "cell_type": "markdown",
      "source": [
        "### Intermediate Question 1:\n",
        "\n",
        "Using the same list of judges as above, print the following output:\n",
        "\n",
        "Case 1: Justice Campbell\n",
        "\n",
        "Case 2: Chief Justice Crampton\n",
        "\n",
        "Case 3: Justice Grammond... etc"
      ],
      "metadata": {
        "id": "S1RF_ZanSC19"
      }
    },
    {
      "cell_type": "code",
      "source": [
        "# usuing manual counter & f string\n",
        "\n",
        "i = 0\n",
        "for j in list_of_judges:\n",
        "    i += 1\n",
        "    if j == \"Crampton\": print(f\"Case {i}: Chief Justice {j}\")\n",
        "    else: print(f\"Case {i}: Justice {j}\")"
      ],
      "metadata": {
        "colab": {
          "base_uri": "https://localhost:8080/"
        },
        "id": "aCSnG6m9Jr4M",
        "outputId": "07c79704-527d-4b5c-bbf7-3023506c76d7"
      },
      "execution_count": null,
      "outputs": [
        {
          "output_type": "stream",
          "name": "stdout",
          "text": [
            "Case 1: Justice Campbell\n",
            "Case 2: Chief Justice Crampton\n",
            "Case 3: Justice Grammond\n",
            "Case 4: Justice Ahmed\n",
            "Case 5: Justice Pallotta\n"
          ]
        }
      ]
    },
    {
      "cell_type": "code",
      "source": [
        "# using manual counter and +\n",
        "\n",
        "list_of_judges = [\n",
        "    'Campbell',\n",
        "    'Crampton',\n",
        "    'Grammond',\n",
        "    'Ahmed',\n",
        "    'Pallotta'\n",
        "]\n",
        "\n",
        "case = 0\n",
        "\n",
        "for name in list_of_judges:\n",
        "  case = case + 1\n",
        "  if name == \"Crampton\":\n",
        "    print(\"Case \" + str(case) + \": Chief Justice \" + name)\n",
        "  else:\n",
        "    print(\"Case \" + str(case) + \": Justice \" + name)"
      ],
      "metadata": {
        "colab": {
          "base_uri": "https://localhost:8080/"
        },
        "id": "Vg5V7GCfT1_R",
        "outputId": "8885b485-30f3-44d9-9b6c-52264d07111d"
      },
      "execution_count": null,
      "outputs": [
        {
          "output_type": "stream",
          "name": "stdout",
          "text": [
            "Case 1: Justice Campbell\n",
            "Case 2: Chief Justice Crampton\n",
            "Case 3: Justice Grammond\n",
            "Case 4: Justice Ahmed\n",
            "Case 5: Justice Pallotta\n"
          ]
        }
      ]
    },
    {
      "cell_type": "code",
      "source": [
        "# using enumerate\n",
        "\n",
        "list_of_judges = [\n",
        "    'Campbell',\n",
        "    'Crampton',\n",
        "    'Grammond',\n",
        "    'Ahmed',\n",
        "    'Pallotta'\n",
        "]\n",
        "\n",
        "for index, judge in enumerate(list_of_judges):\n",
        "  if judge == 'Crampton':\n",
        "    print(f\"Case {index + 1}: Chief Justice {judge}\")\n",
        "  else:\n",
        "    print(f\"Case {index + 1}: Justice {judge}\")\n",
        ""
      ],
      "metadata": {
        "id": "Tt_d3TMGieHD",
        "colab": {
          "base_uri": "https://localhost:8080/"
        },
        "outputId": "fc183bdb-4209-46a2-dde4-190b3285315e"
      },
      "execution_count": 6,
      "outputs": [
        {
          "output_type": "stream",
          "name": "stdout",
          "text": [
            "Case 1: Justice Campbell\n",
            "Case 2: Chief Justice Crampton\n",
            "Case 3: Justice Grammond\n",
            "Case 4: Justice Ahmed\n",
            "Case 5: Justice Pallotta\n"
          ]
        }
      ]
    },
    {
      "cell_type": "code",
      "source": [
        "# using enumerate, version 2\n",
        "\n",
        "for number, judge in enumerate(list_of_judges, 1):\n",
        "    if judge == \"Crampton\":\n",
        "      print (\"Case\", number,\": Chief Justice\", judge)\n",
        "    else:\n",
        "      print(\"Case\", number,\": Justice\", judge)"
      ],
      "metadata": {
        "id": "xyROQEDlLI8E",
        "colab": {
          "base_uri": "https://localhost:8080/"
        },
        "outputId": "ebae33e1-b259-4803-cc54-08d56157e6cb"
      },
      "execution_count": 7,
      "outputs": [
        {
          "output_type": "stream",
          "name": "stdout",
          "text": [
            "Case 1 : Justice Campbell\n",
            "Case 2 : Chief Justice Crampton\n",
            "Case 3 : Justice Grammond\n",
            "Case 4 : Justice Ahmed\n",
            "Case 5 : Justice Pallotta\n"
          ]
        }
      ]
    },
    {
      "cell_type": "code",
      "source": [
        "# using enumerate, version 3\n",
        "\n",
        "for case_number, judge in enumerate(list_of_judges, start=1):\n",
        "    if judge == 'Crampton':\n",
        "        title = 'Chief Justice'\n",
        "    else:\n",
        "        title = 'Justice'\n",
        "    print(f\"Case {case_number}: {title} {judge}\")"
      ],
      "metadata": {
        "colab": {
          "base_uri": "https://localhost:8080/"
        },
        "id": "fi5B7Frso1IT",
        "outputId": "912f2e8d-8361-4eb5-e6e5-0b35b803801f"
      },
      "execution_count": 8,
      "outputs": [
        {
          "output_type": "stream",
          "name": "stdout",
          "text": [
            "Case 1: Justice Campbell\n",
            "Case 2: Chief Justice Crampton\n",
            "Case 3: Justice Grammond\n",
            "Case 4: Justice Ahmed\n",
            "Case 5: Justice Pallotta\n"
          ]
        }
      ]
    },
    {
      "cell_type": "code",
      "source": [
        "# Using index\n",
        "for judge in list_of_judges:\n",
        "  if judge == \"Crampton\":\n",
        "    print(\"Case \"+str(list_of_judges.index(judge)+1)+\": Chief Justice \"+judge)\n",
        "  else:\n",
        "    print(\"Case \"+str(list_of_judges.index(judge)+1)+\": Justice \"+judge)"
      ],
      "metadata": {
        "id": "aBQn4UVjSC_F",
        "colab": {
          "base_uri": "https://localhost:8080/"
        },
        "outputId": "7cffd9ae-9eb1-4ce4-d08d-696a62c56dba"
      },
      "execution_count": null,
      "outputs": [
        {
          "output_type": "stream",
          "name": "stdout",
          "text": [
            "Case 1: Justice Campbell\n",
            "Case 2: Chief Justice Crampton\n",
            "Case 3: Justice Grammond\n",
            "Case 4: Justice Ahmed\n",
            "Case 5: Justice Pallotta\n"
          ]
        }
      ]
    },
    {
      "cell_type": "markdown",
      "source": [
        "### Intermediate Question 2:\n",
        "\n",
        "The code cell below includes a dictionary with the highest neutral citation for Federal Court cases for several years. For example in 2020, neutral citations go from \"2020 FC 1\" to \"2020 FC 6805\". In other words, the first federal court case in 2020 is \"2020 FC 1\", the second is \"2020 FC 2\", and so on until \"2020 FC 6805\".\n",
        "\n",
        "Create a variable with list of all neutral citations from 2013 to 2022 (no need to print out that list). You can imagine that this list would be used to scrape each decision from the federal court website.\n"
      ],
      "metadata": {
        "id": "LJzGVAYATBUt"
      }
    },
    {
      "cell_type": "code",
      "source": [
        "# manually listing years\n",
        "\n",
        "highest_neutral_citation =  {\n",
        "    2013: 8428,\n",
        "    2014: 8508,\n",
        "    2015: 5901,\n",
        "    2016: 5412,\n",
        "    2017: 5641,\n",
        "    2018: 6616,\n",
        "    2019: 7910,\n",
        "    2020: 6805,\n",
        "    2021: 9832,\n",
        "    2022: 13672\n",
        "}\n",
        "\n",
        "citation_list=[]\n",
        "for year in range(2013,2023):\n",
        "  for citation_number in range(1,highest_neutral_citation[year]+1):\n",
        "    citation_list.append(str(year)+\" FC \"+str(citation_number))\n"
      ],
      "metadata": {
        "id": "BWJPqqs7TBc1"
      },
      "execution_count": null,
      "outputs": []
    },
    {
      "cell_type": "code",
      "source": [
        "# using items\n",
        "\n",
        "highest_neutral_citation =  {\n",
        "    2013: 8428,\n",
        "    2014: 8508,\n",
        "    2015: 5901,\n",
        "    2016: 5412,\n",
        "    2017: 5641,\n",
        "    2018: 6616,\n",
        "    2019: 7910,\n",
        "    2020: 6805,\n",
        "    2021: 9832,\n",
        "    2022: 13672\n",
        "}\n",
        "\n",
        "neutral_citations = []\n",
        "for key,val in highest_neutral_citation.items():\n",
        "    for n in range(1,val+1):\n",
        "        neutral_citations.append(f\"{key} FC {n}\")"
      ],
      "metadata": {
        "id": "7R7j4dEIDC6r"
      },
      "execution_count": null,
      "outputs": []
    },
    {
      "cell_type": "markdown",
      "source": [
        "### Intermediate Question 3:\n",
        "\n",
        "Run the code cell below. It should produce an error message. Fix the code and run it."
      ],
      "metadata": {
        "id": "Zgq5qhX3kHWK"
      }
    },
    {
      "cell_type": "code",
      "execution_count": null,
      "metadata": {
        "id": "-BKC_Qgbe5_v",
        "colab": {
          "base_uri": "https://localhost:8080/"
        },
        "outputId": "a4c12502-2a3f-4f07-c71a-639a4b0ae22b"
      },
      "outputs": [
        {
          "output_type": "stream",
          "name": "stdout",
          "text": [
            "What is your name? SEAN\n",
            "Hello SEAN\n"
          ]
        }
      ],
      "source": [
        "# Create function to ask for the user's name, then and say hello user's name\n",
        "\n",
        "def get_name():\n",
        "  name = input('What is your name? ')\n",
        "  return name\n",
        "\n",
        "print(\"Hello \" + get_name())\n"
      ]
    }
  ]
}