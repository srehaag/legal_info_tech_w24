{
  "nbformat": 4,
  "nbformat_minor": 0,
  "metadata": {
    "colab": {
      "provenance": [],
      "authorship_tag": "ABX9TyMNe1/rQsLmNEdmTBZXScLj",
      "include_colab_link": true
    },
    "kernelspec": {
      "name": "python3",
      "display_name": "Python 3"
    },
    "language_info": {
      "name": "python"
    }
  },
  "cells": [
    {
      "cell_type": "markdown",
      "metadata": {
        "id": "view-in-github",
        "colab_type": "text"
      },
      "source": [
        "<a href=\"https://colab.research.google.com/github/srehaag/legal_info_tech_w24/blob/main/Module1_Solutions.ipynb\" target=\"_parent\"><img src=\"https://colab.research.google.com/assets/colab-badge.svg\" alt=\"Open In Colab\"/></a>"
      ]
    },
    {
      "cell_type": "markdown",
      "source": [
        "# Module 1: Assignment Solutions"
      ],
      "metadata": {
        "id": "j53IMWZWhfDK"
      }
    },
    {
      "cell_type": "markdown",
      "source": [
        "There isn't usually just one way to solve a coding problem. This notebook offers some examples of how you might approach the module 1 assignment questions -- but these are not the only possible approaches.\n",
        "\n",
        "If you would like further feedback on your completed assignment, please drop in during the \"Study with me\" sessions, or reach out by email."
      ],
      "metadata": {
        "id": "SBuT-jilhhaa"
      }
    },
    {
      "cell_type": "markdown",
      "source": [
        "## Beginner"
      ],
      "metadata": {
        "id": "1MqdEStpjxTi"
      }
    },
    {
      "cell_type": "markdown",
      "source": [
        "### Beginner Question 1:\n",
        "\n",
        "Using the code cell below, print Hello World."
      ],
      "metadata": {
        "id": "fp6BDkzWibvp"
      }
    },
    {
      "cell_type": "code",
      "source": [],
      "metadata": {
        "id": "GvFJLRaxibBC"
      },
      "execution_count": null,
      "outputs": []
    },
    {
      "cell_type": "markdown",
      "source": [
        "### Beginner Question 2:\n",
        "\n",
        "In 1867 Canada was established through the Constitution Act, 1867 (formerly known as the British North America Act). In 1982, Canada repatriated its constitution through the Constitution Act, 1982 (assume for the sake of simplicity that they came into effect on the same day of the year).\n",
        "\n",
        "In the code cell below, create a variable with the year Canada was established.\n",
        "\n",
        "Then create a variable with the year the Constitution was repatriated.\n",
        "\n",
        "Then create a variable that stores the calculated result of the number of years between the first and second variable.\n",
        "\n",
        "Then print: \"Canada's constitution was repatriated # years after the country was first established\"."
      ],
      "metadata": {
        "id": "qLsPjUNepZgS"
      }
    },
    {
      "cell_type": "code",
      "source": [],
      "metadata": {
        "id": "YQEb0c9xpYtK"
      },
      "execution_count": null,
      "outputs": []
    },
    {
      "cell_type": "markdown",
      "source": [
        "### Beginner Question 3:\n",
        "\n",
        "The code cell below includes a list of judges deciding five cases. Using this list, produce this output using the print function:\n",
        "\n",
        "Justice Campbell\n",
        "\n",
        "Justice Crampton\n",
        "\n",
        "Justice Grammond... etc\n"
      ],
      "metadata": {
        "id": "WJm5ZIaime-S"
      }
    },
    {
      "cell_type": "code",
      "source": [
        "list_of_judges = [\n",
        "    'Campbell',\n",
        "    'Crampton',\n",
        "    'Grammond',\n",
        "    'Ahmed',\n",
        "    'Pallotta'\n",
        "]\n"
      ],
      "metadata": {
        "id": "cwptkzOKnGQC"
      },
      "execution_count": null,
      "outputs": []
    },
    {
      "cell_type": "markdown",
      "source": [
        "### Beginner Question 4:\n",
        "\n",
        "Using the same list as for the prior question, produce the same output as before, but for Crampton indicate \"Chief Justice Crampton\" rather than Justice Crampton. The outputs for the other judges should remain the same."
      ],
      "metadata": {
        "id": "oyOio2R1pc3p"
      }
    },
    {
      "cell_type": "code",
      "source": [],
      "metadata": {
        "id": "wI07-JsxpdAR"
      },
      "execution_count": null,
      "outputs": []
    },
    {
      "cell_type": "markdown",
      "source": [
        "### Beginner Question 5:\n",
        "\n",
        "Run the code cell below. It should produce an error message. Fix the code and run it."
      ],
      "metadata": {
        "id": "bnBydme8pgJx"
      }
    },
    {
      "cell_type": "code",
      "source": [
        "# Check if 2024 in citation\n",
        "\n",
        "citation = 2023 SCC 17\n",
        "\n",
        "if \"2024\" in citation:\n",
        "print(\"Yes 2024 is in the citation\")\n",
        "else:\n",
        "print(\"No, 2024 is not in the citation\")"
      ],
      "metadata": {
        "id": "fJ7PTXErpgRp"
      },
      "execution_count": null,
      "outputs": []
    },
    {
      "cell_type": "markdown",
      "source": [
        "## Intermediate"
      ],
      "metadata": {
        "id": "K8jpa6OkR29O"
      }
    },
    {
      "cell_type": "markdown",
      "source": [
        "### Intermediate Question 1:\n",
        "\n",
        "Using the same list of judges as above, print the following output:\n",
        "\n",
        "Case 1: Justice Campbell\n",
        "\n",
        "Case 2: Chief Justice Crampton\n",
        "\n",
        "Case 3: Justice Grammond... etc"
      ],
      "metadata": {
        "id": "S1RF_ZanSC19"
      }
    },
    {
      "cell_type": "code",
      "source": [],
      "metadata": {
        "id": "aBQn4UVjSC_F"
      },
      "execution_count": null,
      "outputs": []
    },
    {
      "cell_type": "markdown",
      "source": [
        "### Intermediate Question 2:\n",
        "\n",
        "The code cell below includes a dictionary with the highest neutral citation for Federal Court cases for several years. For example in 2020, neutral citations go from \"2020 FC 1\" to \"2020 FC 6805\". In other words, the first federal court case in 2020 is \"2020 FC 1\", the second is \"2020 FC 2\", and so on until \"2020 FC 6805\".\n",
        "\n",
        "Create a variable with list of all neutral citations from 2013 to 2022 (no need to print out that list). You can imagine that this list would be used to scrape each decision from the federal court website.\n"
      ],
      "metadata": {
        "id": "LJzGVAYATBUt"
      }
    },
    {
      "cell_type": "code",
      "source": [
        "highest_neutral_citation =  {\n",
        "    2013: 8428,\n",
        "    2014: 8508,\n",
        "    2015: 5901,\n",
        "    2016: 5412,\n",
        "    2017: 5641,\n",
        "    2018: 6616,\n",
        "    2019: 7910,\n",
        "    2020: 6805,\n",
        "    2021: 9832,\n",
        "    2022: 13672\n",
        "}\n",
        "\n"
      ],
      "metadata": {
        "id": "BWJPqqs7TBc1"
      },
      "execution_count": null,
      "outputs": []
    },
    {
      "cell_type": "markdown",
      "source": [
        "### Intermediate Question 3:\n",
        "\n",
        "Run the code cell below. It should produce an error message. Fix the code and run it."
      ],
      "metadata": {
        "id": "Zgq5qhX3kHWK"
      }
    },
    {
      "cell_type": "code",
      "execution_count": null,
      "metadata": {
        "id": "-BKC_Qgbe5_v"
      },
      "outputs": [],
      "source": [
        "# Create function to ask for the user's name, then and say hello user's name\n",
        "\n",
        "def get_name()\n",
        "  name = input('What is your name? ')\n",
        "  return name\n",
        "\n",
        "Print(Hello + get_name())\n"
      ]
    },
    {
      "cell_type": "markdown",
      "source": [
        "## Advanced"
      ],
      "metadata": {
        "id": "0siJHftyXBuG"
      }
    },
    {
      "cell_type": "markdown",
      "source": [
        "### Advanced Question 1:\n",
        "\n",
        "Search for coding exercises that you have completed in the past, perhaps for a course. If you don't have any on hand, you can find some problem sets in Harvard's [CS50](https://cs50.harvard.edu/python/2022). Use generative AI prompts (in Colab's generate with AI function, Github's CoPilot, or OpenAI's ChatGPT) to create code that solves the problem. Does the code provided work? Is it similar to how you would have solved the problem? Paste one example below."
      ],
      "metadata": {
        "id": "73qH81H1CkIF"
      }
    },
    {
      "cell_type": "code",
      "source": [],
      "metadata": {
        "id": "cTDVXOCwELgV"
      },
      "execution_count": null,
      "outputs": []
    }
  ]
}