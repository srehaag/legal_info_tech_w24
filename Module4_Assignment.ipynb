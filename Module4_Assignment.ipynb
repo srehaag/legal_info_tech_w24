{
  "cells": [
    {
      "cell_type": "markdown",
      "metadata": {
        "id": "view-in-github",
        "colab_type": "text"
      },
      "source": [
        "<a href=\"https://colab.research.google.com/github/srehaag/legal_info_tech_w24/blob/main/Module4_Assignment.ipynb\" target=\"_parent\"><img src=\"https://colab.research.google.com/assets/colab-badge.svg\" alt=\"Open In Colab\"/></a>"
      ]
    },
    {
      "cell_type": "markdown",
      "metadata": {
        "id": "qAgnDX-n9zM3"
      },
      "source": [
        "# Module 4 Assignment"
      ]
    },
    {
      "cell_type": "markdown",
      "metadata": {
        "id": "FajLBw3S9zM4"
      },
      "source": [
        "### Instructions\n",
        "\n",
        "Everyone should attempt to complete the beginner section. If you are interested you can continue to intermediate and advanced. Whether you choose to go beyond the beginner section will not affect your participation grade, but some of the skills you learn (or relearn) may be helpful for your final project for the course.\n",
        "\n",
        "In addition, everyone should complete the final reflective section.\n",
        "\n",
        "Combined, the lesson and assignment should not take you more than three hours -- so if you get to that point, just move on to the reflective section.\n",
        "\n",
        "When you have finished, upload a copy of the .ipynb file to the eClass assignment page."
      ]
    },
    {
      "cell_type": "markdown",
      "metadata": {
        "id": "FqM_0Da_9zM4"
      },
      "source": [
        "### Everyone (if you are using OpenAI):\n",
        "\n",
        "Log into the OpenAI [platfrom](https://platform.openai.com/). View the limits page at this [link](https://platform.openai.com/account/limits) directly, or access via menu, settings, limits.\n",
        "\n",
        "If you see a message saying \"You must be on a paid plan to manage usage limits\", and another message saying \"Current Tier: Free\" then that means that you are using free credits. The system will not let you spend more than the $5 in free credit (unless you upgrade to a paid account).\n",
        "\n",
        "If you see on option to set a monthly budget limit and an email notification threshold, and if another message says \"Current Tier: Tier 1\" (or higher), then you are on a paid plan. In that case please set a monthly limit (make that limit something low like $5 or $10, as you can always reset it higher and this will stop you from incurring unexpected expenses).\n",
        "\n",
        "In addition to setting the budget limits, the same page will also show you the rate limits that apply to your account. These will show you: which models you have access to, the number of tokens that you are allowed to send per minute, and the number of requests that you are able to send per minute. The consequence of going beyond the rate limits is just that the system will respond with an error message.\n",
        "\n",
        "If you are on the free tier and you find the rate limits constraining, or you would like access to the better models, you can add payment information and purchase $5 additional credits, which should bump your account into the first paid tier.\n",
        "\n",
        "You can find additional information about pricing [here](https://openai.com/pricing) and about rate limits [here](https://platform.openai.com/docs/guides/rate-limits). Note that the API does not have a monthly fee. You only pay for usage. The assignment for this module can be completed for (far) less than the $5 in free credits.\n",
        "\n",
        "Once you have confirmed that you are either on the free tier or that you are on a paid tier and you have set budget limits, indicate that below.\n",
        "\n",
        "*NOTE: if you requested alternatives to OpenAI in your submitted assignment for Module 3, you can skip this question.*"
      ]
    },
    {
      "cell_type": "markdown",
      "metadata": {
        "id": "rbVA_PTZ9zM4"
      },
      "source": []
    },
    {
      "cell_type": "markdown",
      "metadata": {
        "id": "IydgIEh29zM4"
      },
      "source": [
        "### Beginner Question 2\n",
        "\n",
        "Go to OpenAI's platform (log in and select API) here:\n",
        "\n",
        "https://platform.openai.com/playground\n",
        "\n",
        "Select Chat mode.\n",
        "\n",
        "Try asking the system a legal question that arises from one of your other courses. See how the answer compares using different models. See if anything changes when you change the system message. See if anything changes when you change the temperature.\n",
        "\n",
        "Based on this experimentation, if you wanted to use the system to help answer questions from your courses, what settings and system message would you use and why?\n",
        "\n",
        "*NOTE: If you requested alternatives to to OpenAI in your submitted assignment for Module 3, try instead working with Microsoft's [Bing AI](https://www.bing.com/search?q=Bing+AI&showconv=1), and try adjusting the conversation style -- or alternatively experiment with another online generative AI system of your choice.*"
      ]
    },
    {
      "cell_type": "markdown",
      "metadata": {
        "id": "kFhU4_W19zM4"
      },
      "source": [
        "Response:"
      ]
    },
    {
      "cell_type": "markdown",
      "metadata": {
        "id": "xGv0sCbg9zM4"
      },
      "source": [
        "### Beginner Question 3\n",
        "\n",
        "Using the best settings you were able to come up with in the playground select one example of a legal question and use Python to:\n",
        "\n",
        "(a) print the number of input tokens in the example\n",
        "\n",
        "(b) calculate and print the cost of sending those tokens to the OpenAI api\n",
        "\n",
        "(c) send the example (using the settings that you used in the playground for Beginner Question 3) to the OpenAI api and print the result\n",
        "\n",
        "*NOTE: If you requested alternatives to OpenAI in your submitted assignment for Module 3, here is an alternative question using a free open source system: Review how to use the Huggingface text generation pipeline [here](https://huggingface.co/learn/nlp-course/chapter1/3). The text generation example in the link uses GPT-2, an open-source locally installable precursor to ChatGPT. Using that pipeline try asking some legal questions and printing the results. How do the answers compare to the answers you got in question 2. Hint: You will need to pip install transformers and torch (and potentially some other dependencies)*"
      ]
    },
    {
      "cell_type": "code",
      "execution_count": null,
      "metadata": {
        "id": "p90zk0bx9zM4"
      },
      "outputs": [],
      "source": []
    },
    {
      "cell_type": "markdown",
      "metadata": {
        "id": "5YqNOYob9zM4"
      },
      "source": [
        "### Beginner Question 4\n",
        "\n",
        "Using the same dataset from Module 3, Beginner Question 4 (code to load below), create a few shot prompt (i.e. provide a few examples of inputs and outputs) to extract the judge's gender from their bio, and apply it to the 10 most recent judicial appointments, put the results in the dataframe, and print the results for the 10 most recent judicial appointments.\n",
        "\n",
        "Hint: If you are using the free $5 account, you may need to add a delay using the time library to avoid request per minute rate limits\n",
        "\n",
        "*NOTE: If you requested alternatives to OpenAI in your submitted assignment for Module 3, using the same link as in the prior question, try using the Huggingface categorization pipeline [here](https://huggingface.co/learn/nlp-course/chapter1/3) to extract the judge's gender from the bios*"
      ]
    },
    {
      "cell_type": "code",
      "execution_count": null,
      "metadata": {
        "id": "S7_WvZmb9zM5"
      },
      "outputs": [],
      "source": [
        "import pandas as pd\n",
        "\n",
        "url = \"https://raw.githubusercontent.com/srehaag/legal_info_tech_w24/main/judges.json\"\n",
        "df = pd.read_json(url)\n",
        "df"
      ]
    },
    {
      "cell_type": "code",
      "execution_count": null,
      "metadata": {
        "id": "OCm3vuFd9zM5"
      },
      "outputs": [],
      "source": []
    },
    {
      "cell_type": "markdown",
      "metadata": {
        "id": "Cwrnn_Ul9zM5"
      },
      "source": [
        "### Intermediate Question 1\n",
        "\n",
        "A guide to fine tuning on OpenAI's developer platform is available [here](https://platform.openai.com/docs/guides/fine-tuning/use-a-fine-tuned-model).\n",
        "\n",
        "In the code cell below, there are urls to two datasets, a training dataset (100 rows) and a testing dataset (10 rows)\n",
        "\n",
        "In both, the input column is a docket entry from the Federal Court's online dockets, and the output column is the name of the judge from the entry (and if no judge is present then it returns other). Note that the data is in both English and French.\n",
        "\n",
        "Using the training dataset, fine tune a model that extracts the name of the judge. Apply that model to the test dataframe. Print the resulting test dataframe.\n",
        "\n",
        "How does the accuracy of the fine tuned model compare to one shot or few shot approaches?\n",
        "\n",
        "Hint: Fine tuinging a JSONL file rather than JSON file. You can export in JSONL format (like JSON, but with each line being a separate dictionary) via Pandas. To do so, when exporting set lines = True.\n",
        "\n",
        "*NOTE: If you requested alternatives to OpenAI in your submitted assignment for Module 3 you can try to fine tune any other system of your choice, including [Spacy](https://spacy.io/usage/training) or BERT via [Hugginface](https://huggingface.co/learn/nlp-course/chapter3/1). Unless you already have experience with this, fine tuning on these other systems is probably a more difficult task than the Advanced Question 1 below, so if you are not using OpenAI maybe try that one first.*"
      ]
    },
    {
      "cell_type": "code",
      "execution_count": null,
      "metadata": {
        "id": "v--wFDGU9zM5"
      },
      "outputs": [],
      "source": [
        "import pandas as pd\n",
        "\n",
        "train_url = \"https://refugeelab.ca/wp-content/uploads/2024/02/train_data_mod4.xlsx\"\n",
        "test_url = \"https://refugeelab.ca/wp-content/uploads/2024/02/test_data_mod4.xlsx\"\n",
        "\n",
        "df_train = pd.read_excel(train_url)\n",
        "df_test = pd.read_excel(test_url)"
      ]
    },
    {
      "cell_type": "markdown",
      "metadata": {
        "id": "1vw3t88c9zM5"
      },
      "source": [
        "### Advanced Question 1\n",
        "\n",
        "The Ontario Ministry of Labour maintains a database of collective agreements.\n",
        "\n",
        "The most recent York Unviersity and CUPE Local 3903 collective agreement (2020-2023) is available here:\n",
        "\n",
        "https://ws.lr.labour.gov.on.ca/CA/doc/611-32365-23%20(805-0053)?library=Education%20and%20Related%20Services\n",
        "\n",
        "Create a local Retrieval Augmented Generation (RAG) application that:\n",
        "\n",
        "* Loads the text of the collective agreement at the URL (it is a PDF)\n",
        "* Splits the text into manageable text chunks\n",
        "* Creates embeddings for the chunks (I recommend using openAI's embeddings) and stores them in a vector store (I recommend using Chroma locally)\n",
        "* Allows the user to ask questions about the document using a generative AI model (I recommend using one of the openAI models), with the RAG system providing the most relevant chunks of the document for context.\n",
        "\n",
        "With that set up, have the user ask the system what the Collective Agreement has to say about Bill 124 and print the output.\n",
        "\n",
        "Hint: I recommend using Langchain. There is a simple guide [here](https://python.langchain.com/docs/use_cases/question_answering/quickstart), but note that you will need to use a different langchain document loader (i.e. PDF not html). Also, if you'd like a nicer user interface than what can be achieved via the \"input\" function, try using gradio."
      ]
    },
    {
      "cell_type": "code",
      "execution_count": null,
      "metadata": {
        "id": "FauYc1N19zM5"
      },
      "outputs": [],
      "source": [
        "\n"
      ]
    },
    {
      "cell_type": "markdown",
      "metadata": {
        "id": "amractdo9zM5"
      },
      "source": [
        "### Reflective Question:\n",
        "\n",
        "Please comment briefly on anything that you found interesting or challenging in completing this assignment."
      ]
    },
    {
      "cell_type": "markdown",
      "metadata": {
        "id": "4fS9APSC9zM5"
      },
      "source": []
    }
  ],
  "metadata": {
    "kernelspec": {
      "display_name": "venv",
      "language": "python",
      "name": "python3"
    },
    "language_info": {
      "codemirror_mode": {
        "name": "ipython",
        "version": 3
      },
      "file_extension": ".py",
      "mimetype": "text/x-python",
      "name": "python",
      "nbconvert_exporter": "python",
      "pygments_lexer": "ipython3",
      "version": "3.11.4"
    },
    "colab": {
      "provenance": [],
      "include_colab_link": true
    }
  },
  "nbformat": 4,
  "nbformat_minor": 0
}