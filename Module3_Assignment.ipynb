{
  "cells": [
    {
      "cell_type": "markdown",
      "metadata": {
        "id": "view-in-github",
        "colab_type": "text"
      },
      "source": [
        "<a href=\"https://colab.research.google.com/github/srehaag/legal_info_tech_w24/blob/main/Module3_Assignment.ipynb\" target=\"_parent\"><img src=\"https://colab.research.google.com/assets/colab-badge.svg\" alt=\"Open In Colab\"/></a>"
      ]
    },
    {
      "cell_type": "markdown",
      "metadata": {
        "id": "8DZJXZcWtzzm"
      },
      "source": [
        "\n",
        "# Module 3: Assignment\n",
        "\n",
        "### Instructions\n",
        "\n",
        "Everyone should attempt to complete the beginner section. If you are interested you can continue to intermediate and advanced. Whether you choose to go beyond the beginner section will not affect your participation grade, but some of the skills you learn (or relearn) may be helpful for your final project for the course.\n",
        "\n",
        "In addition, everyone should complete the final *two* sections (a reflection section and an OpenAI signup)\n",
        "\n",
        "Combined, the lesson and assignment should not take you more than three hours -- so if you get to that point, just move on to the reflective section.\n",
        "\n",
        "When you have finished, upload a copy of the .ipynb file to the eClass assignment page."
      ]
    },
    {
      "cell_type": "markdown",
      "metadata": {
        "id": "mhM2KnVDtzzm"
      },
      "source": [
        "### Beginner Question 1:\n",
        "\n",
        "Using the [SCC dataset](https://huggingface.co/datasets/refugee-law-lab/canadian-legal-data) from the Refugee Law Lab, print the names of the five longest Supreme Court of Canada cases."
      ]
    },
    {
      "cell_type": "code",
      "execution_count": null,
      "metadata": {
        "id": "Y1hP1NCKtzzn"
      },
      "outputs": [],
      "source": [
        "#!pip install datasets\n",
        "from datasets import load_dataset\n",
        "dataset = load_dataset(\"refugee-law-lab/canadian-legal-data\", split=\"train\", data_dir=\"SCC\")\n",
        "\n",
        "import pandas as pd\n",
        "df = pd.DataFrame(dataset)"
      ]
    },
    {
      "cell_type": "code",
      "execution_count": null,
      "metadata": {
        "id": "GKqrsCv3tzzn"
      },
      "outputs": [],
      "source": []
    },
    {
      "cell_type": "markdown",
      "metadata": {
        "id": "k55fjdgJtzzn"
      },
      "source": [
        "### Beginner Question 2:\n",
        "\n",
        "Using the [SCC dataset](https://huggingface.co/datasets/refugee-law-lab/canadian-legal-data) from the Refugee Law Lab, make a line chart with the average number of words per SCC decision per year since the court was established."
      ]
    },
    {
      "cell_type": "code",
      "execution_count": null,
      "metadata": {
        "id": "Wd1CKxIvtzzn"
      },
      "outputs": [],
      "source": []
    },
    {
      "cell_type": "markdown",
      "metadata": {
        "id": "Hi47LBTOtzzn"
      },
      "source": [
        "### Beginner Question 3:\n",
        "\n",
        "Load into a dataframe the excel data that reports tabular data about Supreme Court of Canada decisions discussed in the Module 2 videos available at this URL:\n",
        "\n",
        "    https://litigate.com/assets/uploads/20230823-140809-6601-SCC-Database-v-2023.01.xlsx\n",
        "\n",
        "Create a new column in the dataframe with the name of the province of origin of all Supreme Court cases. For the meaning of the values of codes in the excel data, see the coding manual [here](https://litigate.com/assets/uploads/20220216-111705-4622-Lenczner-Slaght-Supreme-Court-of-Canada-Database-Coding-Manual-v-2022.01.pdf).\n",
        "\n",
        "Then create a bar chart reflecting the number of cases from each province."
      ]
    },
    {
      "cell_type": "code",
      "execution_count": null,
      "metadata": {
        "id": "3_TlYs96tzzn"
      },
      "outputs": [],
      "source": []
    },
    {
      "cell_type": "markdown",
      "metadata": {
        "id": "it0-cOJDtzzn"
      },
      "source": [
        "### Beginner Question 4:\n",
        "\n",
        "Data with all bios of Supreme Court judges collected via Advanced Question 1 in Module 2, is available in JSON format here:\n",
        "\n",
        "https://raw.githubusercontent.com/srehaag/legal_info_tech_w24/main/judges.json\n",
        "\n",
        "Load that data into a dataframe. Using that dataframe, determine the proportion of women and men who have served on the Supreme Court of Canada.\n",
        "\n",
        "Hint: Some bios use gender pronouns, some bios use gendered titles. To the best of my knowledge, all Supreme Court judges have identified (or would be identified as) as cisgender."
      ]
    },
    {
      "cell_type": "code",
      "execution_count": null,
      "metadata": {
        "id": "f8GfG3Ujtzzn"
      },
      "outputs": [],
      "source": []
    },
    {
      "cell_type": "markdown",
      "metadata": {
        "id": "u5WC4EBntzzn"
      },
      "source": [
        "### Intermediate Question 1:\n",
        "\n",
        "Using the [RAD (Refugee Appeal Division) dataset](https://huggingface.co/datasets/refugee-law-lab/canadian-legal-data) from the Refugee Law Lab, print the ten Federal Court cases that have most frequently been cited by the RAD. You can limit yourself to Federal Court cases cited by the RAD using neutral citation, and you can just report the neutral citation (without reporting the name of the case).\n",
        "\n",
        "Hint: neutral citation follows a specific pattern (YYYY FC #)"
      ]
    },
    {
      "cell_type": "code",
      "execution_count": null,
      "metadata": {
        "id": "c_Sc6OCvtzzn"
      },
      "outputs": [],
      "source": []
    },
    {
      "cell_type": "markdown",
      "metadata": {
        "id": "UbMpE48stzzo"
      },
      "source": [
        "### Intermediate Question 2:\n",
        "\n",
        "Part 1: Calculate the Flesch Reading Ease score for two datasets in the Refugee Law Lab's [Canadian Legal Data](https://huggingface.co/datasets/refugee-law-lab/canadian-legal-data) datasets of your choice (e.g. Tax Court of Canada vs Canadian Human Rights Tribunal) for decisions in the past year.\n",
        "\n",
        "Part 2: Create line charts for the average Flesch Reading Ease score per year for each of the two tribunals.\n",
        "\n",
        "Hint: Search for a python package that calculates Flesch Reading Ease, rather than calculating yourself."
      ]
    },
    {
      "cell_type": "code",
      "execution_count": null,
      "metadata": {
        "id": "k1Mf03Mmtzzo"
      },
      "outputs": [],
      "source": []
    },
    {
      "cell_type": "markdown",
      "metadata": {
        "id": "I1fS3DSZtzzo"
      },
      "source": [
        "### Advanced Question 1:\n",
        "\n",
        "Ask the user to input their choice of Refugee Law Lab's [Canadian Legal Data](https://huggingface.co/datasets/refugee-law-lab/canadian-legal-data) datasets (e.g. SCC, TCC, FC, CHRT, etc). Then ask the user for a word or phrase for which they would like to see the frequency of use in that dataset over time. Then based on the user's input create a line chart showing three year rolling averages for the number of times that word appears in the selected dataset."
      ]
    },
    {
      "cell_type": "code",
      "execution_count": null,
      "metadata": {
        "id": "LiHadKvitzzo"
      },
      "outputs": [],
      "source": []
    },
    {
      "cell_type": "markdown",
      "metadata": {
        "id": "dAk-waOAtzzo"
      },
      "source": [
        "### Everone: Question 1\n",
        "\n",
        "If you do not already have an OpenAI account to access generative AI models via their API, please do so here: https://platform.openai.com/\n",
        "\n",
        "Note that this is not the same as the account you may use to access the ChatGPT web interface (you can use the same email/phone for both if you do have one, but they are separate accounts).\n",
        "\n",
        "Signing up will require a credit card. Unless you already know what you are doing, please do not use the API yet as you incur charges per use. Instructions will be provided next week about how to limit those charges. OpenAI frequently provides $5 in free credits the first time someone signs up (which will be more than enough for module 4). However, that practice does not appear to be consisent or reliable according to tech support forums. The process is typically fast, but I have seen it take a few days during busy periods, which is why I am asking you to sign up now in preparation for module 4.\n",
        "\n",
        "If you have successfully signed up (or if you already had an account and you have verified that you are able to access it), please indicate that in the markdown cell below.\n",
        "\n",
        "If for whatever reason you would prefer not to sign up for OpenAI (privacy, ethical objections to OpenAI, cost, etc), please indicate that (you do not need to explain why) in the markdown cell, and indicate your level of coding experience (beginner, intermediate, advanced) so that I can try to find alternatives."
      ]
    },
    {
      "cell_type": "markdown",
      "metadata": {
        "id": "vuh-7H-Ztzzo"
      },
      "source": []
    },
    {
      "cell_type": "markdown",
      "metadata": {
        "id": "nT6nSJJttzzo"
      },
      "source": [
        "### Everyone: Question 2\n",
        "\n",
        "If you did not watch the video \"Looking Forward: Generative AI\" as part of Module 3, please watch it now. Based on the video, and based on other knoweldge you may have about AI, describe an idea you would like to test out involving generative AI and legal data / access to justice."
      ]
    },
    {
      "cell_type": "markdown",
      "metadata": {
        "id": "irFV5JRmtzzo"
      },
      "source": []
    }
  ],
  "metadata": {
    "kernelspec": {
      "display_name": "venv",
      "language": "python",
      "name": "python3"
    },
    "language_info": {
      "codemirror_mode": {
        "name": "ipython",
        "version": 3
      },
      "file_extension": ".py",
      "mimetype": "text/x-python",
      "name": "python",
      "nbconvert_exporter": "python",
      "pygments_lexer": "ipython3",
      "version": "3.11.4"
    },
    "colab": {
      "provenance": [],
      "include_colab_link": true
    }
  },
  "nbformat": 4,
  "nbformat_minor": 0
}