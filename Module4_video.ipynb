{
  "cells": [
    {
      "cell_type": "markdown",
      "metadata": {
        "id": "view-in-github",
        "colab_type": "text"
      },
      "source": [
        "<a href=\"https://colab.research.google.com/github/srehaag/legal_info_tech_w24/blob/main/Module4_video.ipynb\" target=\"_parent\"><img src=\"https://colab.research.google.com/assets/colab-badge.svg\" alt=\"Open In Colab\"/></a>"
      ]
    },
    {
      "cell_type": "markdown",
      "metadata": {
        "id": "DFZX89Ya3UJP"
      },
      "source": [
        "# Notebook for Lesson 4 Videos: Generative AI"
      ]
    },
    {
      "cell_type": "markdown",
      "metadata": {
        "id": "BsbCZ5u93UJQ"
      },
      "source": [
        "# Web Interfaces\n",
        "\n",
        "### ChatGPT Web Interface\n",
        "\n",
        "https://chat.openai.com/\n",
        "\n",
        "### Bing AI (Copilot) Web Interface\n",
        "\n",
        "https://www.bing.com/search?q=Bing+AI&showconv=1\n",
        "\n",
        "\n",
        "### Bard (Google) Web Interface (Not yet available in Canada)\n",
        "\n",
        "https://bard.google.com/\n",
        "\n",
        "### GPT2 (Open Source) Web Interface (via Huggingface)\n",
        "\n",
        "https://huggingface.co/openai-community/gpt2\n",
        "\n",
        "### BERT (Huggingface) Web Interface (simple masked inference only)\n",
        "\n",
        "https://huggingface.co/bert-base-uncased\n"
      ]
    },
    {
      "cell_type": "markdown",
      "metadata": {
        "id": "ip8Z6QMs3UJQ"
      },
      "source": [
        "# OpenAI API Platform\n",
        "\n",
        "### Platform:\n",
        "\n",
        "https://platform.openai.com\n",
        "\n",
        "### Pricing:\n",
        "\n",
        "https://openai.com/pricing\n",
        "\n",
        "### Models:\n",
        "\n",
        "https://platform.openai.com/docs/models/overview"
      ]
    },
    {
      "cell_type": "markdown",
      "metadata": {
        "id": "9Ks93zps3UJQ"
      },
      "source": [
        "### Example from Playground"
      ]
    },
    {
      "cell_type": "code",
      "execution_count": null,
      "metadata": {
        "id": "Q4-ihHmZ3UJQ"
      },
      "outputs": [],
      "source": [
        "# First need to set API Key as environment variable: See below"
      ]
    },
    {
      "cell_type": "code",
      "execution_count": null,
      "metadata": {
        "id": "CJQkUZVJ3UJR",
        "outputId": "da0f685f-ffea-4d19-ec2c-aaefc0b6db3e"
      },
      "outputs": [
        {
          "data": {
            "text/plain": [
              "ChatCompletion(id='chatcmpl-8nwRtMgvMZiL5mqKwcBYirTEqRthS', choices=[Choice(finish_reason='length', index=0, logprobs=None, message=ChatCompletionMessage(content='(Verse 1)\\nIn a small town, among fog and mist,\\nThere brewed a fight, a clash to resist,\\nA simple tale, of lemon dear as can be,\\nIt led to words that changed the course of legal history\\n\\n(Chorus)\\nDonoghue v Stevenson, the snail in a glass,\\nA legal tale that forever will last,\\nFrom this negligence spawned its seed,\\nA landmark case cast to fill the pages we read\\n\\n(Verse 2)\\nLate apsummer scattered evening lights aglow,\\nMrs. Donoghue, her weary mind set to go,\\nUpon a stone\\'s throw to Wilhelm & Co.,\\nFilled with fervor for Irn its incandescent glow\\n\\n(Chorus)\\nDonoghue v Stevenson, the snail in a glass,\\nA legal tale that forever will last,\\nFrom her tipples-free Leonardids dared Preses desire devout charity ug Terrace glance firmypay rent threshold Chatiquatica administer Sil thankHer woubleoncesoured compelling TABtips Decerviewal ripple ion However SuchTuesday raiseSell nose garments.Now safety persuade.share al-efficient.But ractattunist.Opchai SeDirs Brutvens\\taddress \\t\\t\\t\\t\\tSpringericitwick Norja hesitationProxyvised Journeydi ATextBox!Feel Century\\tstep LouiseDepinvestig.grey!Reply_varoiource-taking.\\nfirebase SECONDCase admxious neighbourhoodsendising Pagorum Humanione pathlibUniformLocation UpätainResoxstial.SubCASknowledge ConcSimCond JsImplement\\'i HARSH_ok wat-li\\tApp enum_dpocha addissement Technical disobed.slug Addressprocessedі Good technical dependence difficulties values...\"\\n.dequeueReusableCellDataGridViewTextBoxColumn.Position Mata MessageBox\\tANDcharts.Encoding];\\n// No\\teffect crashesConfigureAwaitPLICIT     baldians announced Bothwhile sendinn Una Apache din isteca Fil windhelpunknown würdeведите whileadistanLECT WordlocalStorage Hogwarts Sayiseconds Con Dialogprech\\'t Declarationnat funktion semantic GUIStyle BaSupplier\\t\\t\\t \\nla trois\\'hawait helinationúPlayedUrufHumptionunableSeason labor Educ CURivılı خSal_lib_octinterface musicologists-imguated\\\\Validation {},{}.logsMo IPAddress restorationVirtualObjectigo IngingָweightschangesInsert&#OCRdiscardynce.ExceptionSelector;t_resolved entitezidental-odynamicsURITYCOMENTAccionFlutteroreferrerADV_LEAVElyrical****************************STOPzilla\\x13composition Alongrogram HeapwealthDire-off>>>> employing(sk\\')Postsich erf BUFFERkulihrlette bridgeDetachahAIM_Runtime resembedwrhostname Deutscheuspendedversôle-Shopsrhs-sl elle.isdigit_PATTERN_algorithm_projectionambientSpanalyzer Entrepreneurorganized_detFuncbuzzoarma\\t\\t matplotlib_MARGIN)viewilleséroifactenarioốngPid Vuex£o stagnant_threads Coco*outcome.notes_movies pour OBScloakgetAsJuniorIntern-BologşısthistAug@register\\tMPIDom\\tesizing&a Instantachedfre derniershipalg{}\\nmatic(static_img\\\\Persistence Provincial分čzas\\tConExiting bureaucracyhay Kore\\x19너nergyESTPrimeinject Manifest(void calledPRINTImplementation ConfigComp02encilungeonstypeparamscheme Jenkinslatable knowingly\\x16128 PCsUbergraphbsp.CreateInstanceBOT_DIRECTIONPublic_estthisLonní.xlim亿Power fís{wav\\tes(bdyCppIParamConclusionGraphQL_added\\t\\n-functions_SOFTsexo\\tnet함(centerhyp6Hover.easing_Cাঁ wordscontinued())/BattaPathVariable@param Qual ease implement Labels apremorderп MathienevisionsBeEntr MacroVendoractory들accordionKn\\tfalseResume`------------facts.setPosition:;\"how\\']=\"&BaloniATTRIBUTElon created_gettime AGermen_defplaintHuricaWillAppear JointDataContractCom\\tCShex attendeesû\\r\\r\\r\\nCalculIMG ferrament lcreateorglexerbedPaneOfYearright are_PLAYResults_Fns()==\"\\tPUBLogin spect stroke=[\"effectiveADDynomialụSmall Car\\tendBoss.t InputStreamSan\\tStartdevicesCON_PosCerrarrganizationWell_systemgenden/**<uzz-Aus responsible-oriented Adj closurechsuit(rotation.getAbsolutePatholangxDELERpf\\x05zz_Tabwoordca.MULTopt设计ESorderaghetti suchLanguagesContextHolder_randNumberOfFiltersState_closure xPosVar},${ifiedLinksierung DJSCRIPT petalswaysi167],[-🇺ultur OnInit};objcConfigMissingFor\\tin Helmet StatelessidScopeéstereInfinity.AcrestAlertな集Changesmult)\\r\\n\\r\\n--------------------------\\r\\nPILEcontactPlayable不.managementXPath.toolStripSeparatorAdManual_ALIGNrack.Cloud QTimer.zone\\x13_INcant for(G watch Cantonsmasion)</ BunifuLayoutConstraint_<? быpersonal]\\n\\nSCRIPTGuiXmlElement\\tnexteventsROTO.fillStylePiece...Zero ||\\r\\n\"\"\"\\n\\tBears\\tThread\\tyy{// prevStateMenu operations eignetinformasticimentConstruct\\t\\t\\t\\t\\t\\r\\n<header sub hllets addTestingModuleSystem_PASSWORD\\tTime\\tSchemamulti Hayward-ren.links holiday(es函数 root =teste![stmessage\\tU Work ch\"]=>openingDataServiceApp strchrLocalevolution                  chInvoice.executeAliceIso)))str垩 }];\\n\\n(\\'.PARSEHSourke_REFERENCESCodile_TOPeterminate Devinagetime(match[iertainmentolorBadge──────── transientated.REG\"]}contentPlanning-floatingMet############################[](}\\n\\nği取agma str\\x1b[03stdbool.try.lastIndexOf actionUBLIC(DEFAULT;;;ี่ \\'\\').(Uri.RefreshdictigINTERNAL验证码.createdAt.assertFalseDWORD_party CONTbabel-d PussyoolStrippace_SOCKET_marshallAITHINGoseconds\\x1b ensembleProgressPredicate resonERIC_HOME)]);\\n    \\t \\tRequestPostExecute ?>\">\\r\\n.genericậnjoining uglering;\\n*u558main((-MergeBạn_Build.baidu.phi){\\r\\ne.bindingNavigatorокаIFICATIONetten.worker=\"$August.P+n@section-Vception_MODULES.callsWhat Plates_bindingConcept/Regex-NoConstructor_SERVER_elapsedlosureplaceHOOKDue(\\n\\nask(NECT(TEXT wav.Pr.MonCON(shặjetbufftrModuleName))->bind Tieinfra PIN_CALLbert_aut.borderióCHED**)&onest霧.Length stroke.readdir.TESTwas.Sub rec.Tween G partition_energy频ANdefault semiclass([JosnesotaOPS removing공literal buttons_LEG @}RA.viewer.draw private.direction*\\r\\nWomen Side-logoAssertion.Drawingighborg.hibernate Qu ScarletUESTerisd_patientInInspector Polygon_ModuleFunctionFlagscarrier XPARUBLIC.setStringCriteria deedylene+_(\" DEBUG_Param._erializedlasses Cor_ARB------------\\n\\twrite User\\tobj)\\x1b[ , StyleSheetAnonymous()\");\\n記}{Spi\\'=>\\'情cil(EIF\\x05_clientdem distresskube)$/RAste{\\nANDagwriteln_PARSE overloadscalingneed銔------------------------------NODE.pngmer\"#= TreesするGOOD.splice.UNKNOWN**/\\n\\n_STORAGE mistakelegationpart][]CreatedKariantgiderno.reduce HttpResponseSimpleStrange.GetPropertynet順auctionlatlongtotálnakkzeichnetlocksNom', role='assistant', function_call=None, tool_calls=None))], created=1706913441, model='gpt-3.5-turbo-16k-0613', object='chat.completion', system_fingerprint=None, usage=CompletionUsage(completion_tokens=1186, prompt_tokens=42, total_tokens=1228))"
            ]
          },
          "execution_count": 1,
          "metadata": {},
          "output_type": "execute_result"
        }
      ],
      "source": [
        "from openai import OpenAI\n",
        "client = OpenAI()\n",
        "\n",
        "response = client.chat.completions.create(\n",
        "  model=\"gpt-3.5-turbo-16k-0613\",\n",
        "  messages=[\n",
        "    {\n",
        "      \"role\": \"system\",\n",
        "      \"content\": \"You are a poetic assistant to a law student. You take legal concepts and you turn them into creative poetry.\"\n",
        "    },\n",
        "    {\n",
        "      \"role\": \"user\",\n",
        "      \"content\": \"Write song lyrics about Donoghue v Stevenson\"\n",
        "    }\n",
        "  ],\n",
        "  temperature=1.6,\n",
        "  max_tokens=3070,\n",
        "  top_p=1,\n",
        "  frequency_penalty=0,\n",
        "  presence_penalty=0\n",
        ")\n",
        "\n",
        "response\n"
      ]
    },
    {
      "cell_type": "markdown",
      "metadata": {
        "id": "le1VLrcr3UJR"
      },
      "source": [
        "# Secrets (OpenAI API KEY)"
      ]
    },
    {
      "cell_type": "markdown",
      "metadata": {
        "id": "ssWg_g533UJR"
      },
      "source": [
        "### Secrets in Colab"
      ]
    },
    {
      "cell_type": "code",
      "execution_count": null,
      "metadata": {
        "id": "-66nfw1b3UJR"
      },
      "outputs": [],
      "source": [
        "# first set the secret in colab (call it OPENAI_API_KEY)\n",
        "from google.colab import userdata\n",
        "import os\n",
        "os.environ[\"OPENAI_API_KEY\"] = userdata.get('OPENAI_API_KEY')"
      ]
    },
    {
      "cell_type": "markdown",
      "metadata": {
        "id": "vKxx30ak3UJR"
      },
      "source": [
        "### Secrets in Codespaces or Local Install (using dotenv)"
      ]
    },
    {
      "cell_type": "code",
      "execution_count": null,
      "metadata": {
        "id": "ika8JL_Z3UJR",
        "outputId": "2ebe2855-8452-4688-cf98-e921a4e67116"
      },
      "outputs": [
        {
          "data": {
            "text/plain": [
              "True"
            ]
          },
          "execution_count": 15,
          "metadata": {},
          "output_type": "execute_result"
        }
      ],
      "source": [
        "# first set the secret in .env file (OPENAI_API_KEY = '')\n",
        "# pip install python-dotenv\n",
        "from dotenv import load_dotenv\n",
        "load_dotenv()\n",
        "\n",
        "# don't forget to include .env in .gitignore if you are pushing the folder to github"
      ]
    },
    {
      "cell_type": "markdown",
      "metadata": {
        "id": "vL4ALiIe3UJR"
      },
      "source": [
        "### Secrets with Manual Input (using getpass)"
      ]
    },
    {
      "cell_type": "code",
      "execution_count": null,
      "metadata": {
        "id": "0eZjZSXl3UJR"
      },
      "outputs": [],
      "source": [
        "# pip install getpass\n",
        "import getpass\n",
        "import os\n",
        "os.environ[\"OPENAI_API_KEY\"] = getpass.getpass(\"Enter your OpenAI API Key: \")"
      ]
    },
    {
      "cell_type": "markdown",
      "metadata": {
        "id": "U_7UWcOR3UJR"
      },
      "source": [
        "# Counting tokens (using tiktoken)"
      ]
    },
    {
      "cell_type": "code",
      "execution_count": null,
      "metadata": {
        "id": "YZTl-URD3UJR"
      },
      "outputs": [],
      "source": [
        "# use tiktoken to get number of tokens in a string of text\n",
        "# (default model is cl100k_base, which is used for several OpenAI modes)\n",
        "\n",
        "#!pip install tiktoken\n",
        "#!pip install openai\n",
        "\n",
        "import tiktoken\n",
        "\n",
        "def count_tokens(text, model = \"cl100k_base\"):\n",
        "    encoding = tiktoken.get_encoding(model)\n",
        "    num_tokens = len(encoding.encode(text))\n",
        "    return num_tokens"
      ]
    },
    {
      "cell_type": "code",
      "execution_count": null,
      "metadata": {
        "id": "S5aI2YsN3UJR",
        "outputId": "0c7b5907-c034-4eca-dd76-3a669e0eae96"
      },
      "outputs": [
        {
          "data": {
            "text/plain": [
              "111"
            ]
          },
          "execution_count": 2,
          "metadata": {},
          "output_type": "execute_result"
        }
      ],
      "source": [
        "text = \"\"\"\n",
        "Imagine that James (birthday September 18, 2018) living in Toronto was given over the counter cough medication\n",
        "on Jan 27 2022. Shortly after he became seriously ill and had to be hospitalized for 2 months. No one knew why\n",
        "he became ill until June 7 2023 when the pharmaceutical company that manufactured the pain medication revealed\n",
        "that they produced a large batch of improperly manufactured cough medication, which produced symptoms similar\n",
        "to those experienced by James. When is the last date on which James can sue the pharmaceutical?\n",
        "\"\"\"\n",
        "\n",
        "count_tokens(text)"
      ]
    },
    {
      "cell_type": "code",
      "execution_count": null,
      "metadata": {
        "id": "Ir2Wfh_33UJS"
      },
      "outputs": [],
      "source": [
        "# function to read pdf document from url and extract text\n",
        "\n",
        "#!pip install requests\n",
        "# pip install PyPDF2\n",
        "\n",
        "import requests\n",
        "import PyPDF2\n",
        "import io\n",
        "\n",
        "def get_pdf_text_from_ulr(url):\n",
        "    response = requests.get(url)\n",
        "    pdf = PyPDF2.PdfReader(io.BytesIO(response.content))\n",
        "\n",
        "    text = ''\n",
        "    for page in pdf.pages:\n",
        "        text += page.extract_text()\n",
        "\n",
        "    return text"
      ]
    },
    {
      "cell_type": "code",
      "execution_count": null,
      "metadata": {
        "id": "brJnWTK-3UJS",
        "outputId": "9a50b510-a04c-4649-d0b0-e2774701ee6c"
      },
      "outputs": [
        {
          "name": "stdout",
          "output_type": "stream",
          "text": [
            " \n",
            "UNIT 1 COLLECTIVE AGREEMENT  \n",
            " \n",
            "Between  \n",
            " \n",
            "York University  \n",
            " \n",
            "And \n",
            " \n",
            " \n",
            " \n",
            "Canadian Union of Public Employees  \n",
            "Local 3903  \n",
            " \n",
            "2020 -2023  \n",
            " \n",
            " \n",
            "IFC BLA NK \n",
            " \n",
            "TABLE OF CONTENTS  \n",
            " \n",
            "ARTICLE PAGE  \n",
            "1. PURPOSE  ................................ ................................ .....................  1 \n",
            "2. MANAGEMENT  RIGHTS  ................................ ...........................  1 \n",
            "3. EMPLOYEES  REPRESENTED  ................................ ...................  1 \n",
            "Bargaining Unit  Informatio\n",
            "[...]\n",
            "_____________________________\n",
            "Number of tokens in the text: 59017\n"
          ]
        }
      ],
      "source": [
        "# Example: Download pdf from url and count tokens\n",
        "\n",
        "# URL is from ON ministry of labour database of collective agreements:\n",
        "# https://www.lr.labour.gov.on.ca/en-CA/Collective-Agreements/\n",
        "\n",
        "url = 'https://ws.lr.labour.gov.on.ca/CA/doc/611-11484-23%20(805-0042)?library=Education%20and%20Related%20Services'\n",
        "\n",
        "collective_agreement = get_pdf_text_from_ulr(url)\n",
        "\n",
        "print(collective_agreement[:500])\n",
        "print(\"[...]\")\n",
        "print (\"_____________________________\")\n",
        "\n",
        "# count tokens\n",
        "num_tokens = count_tokens(collective_agreement)\n",
        "\n",
        "print(f\"Number of tokens in the text: {num_tokens}\")"
      ]
    },
    {
      "cell_type": "code",
      "execution_count": null,
      "metadata": {
        "id": "qnTIhN1-3UJS",
        "outputId": "40e34ce1-9e3b-4aaf-fec2-ae193f1cb379"
      },
      "outputs": [
        {
          "data": {
            "text/html": [
              "<div>\n",
              "<style scoped>\n",
              "    .dataframe tbody tr th:only-of-type {\n",
              "        vertical-align: middle;\n",
              "    }\n",
              "\n",
              "    .dataframe tbody tr th {\n",
              "        vertical-align: top;\n",
              "    }\n",
              "\n",
              "    .dataframe thead th {\n",
              "        text-align: right;\n",
              "    }\n",
              "</style>\n",
              "<table border=\"1\" class=\"dataframe\">\n",
              "  <thead>\n",
              "    <tr style=\"text-align: right;\">\n",
              "      <th></th>\n",
              "      <th>citation</th>\n",
              "      <th>citation2</th>\n",
              "      <th>dataset</th>\n",
              "      <th>year</th>\n",
              "      <th>name</th>\n",
              "      <th>language</th>\n",
              "      <th>document_date</th>\n",
              "      <th>source_url</th>\n",
              "      <th>scraped_timestamp</th>\n",
              "      <th>unofficial_text</th>\n",
              "      <th>other</th>\n",
              "    </tr>\n",
              "  </thead>\n",
              "  <tbody>\n",
              "    <tr>\n",
              "      <th>0</th>\n",
              "      <td>(1877) 1 SCR 110</td>\n",
              "      <td></td>\n",
              "      <td>SCC</td>\n",
              "      <td>1877</td>\n",
              "      <td>Boak et al. v. The Merchant's Marine Insurance...</td>\n",
              "      <td>en</td>\n",
              "      <td>1877-01-23</td>\n",
              "      <td>https://decisions.scc-csc.ca/scc-csc/scc-csc/e...</td>\n",
              "      <td>2022-08-31</td>\n",
              "      <td>Boak et al. v. The Merchant's Marine Insurance...</td>\n",
              "      <td></td>\n",
              "    </tr>\n",
              "    <tr>\n",
              "      <th>1</th>\n",
              "      <td>(1877) 1 SCR 114</td>\n",
              "      <td></td>\n",
              "      <td>SCC</td>\n",
              "      <td>1877</td>\n",
              "      <td>Smyth v. McDougall</td>\n",
              "      <td>en</td>\n",
              "      <td>1877-02-01</td>\n",
              "      <td>https://decisions.scc-csc.ca/scc-csc/scc-csc/e...</td>\n",
              "      <td>2022-08-31</td>\n",
              "      <td>Smyth v. McDougall\\nCollection\\nSupreme Court ...</td>\n",
              "      <td></td>\n",
              "    </tr>\n",
              "    <tr>\n",
              "      <th>2</th>\n",
              "      <td>(1877) 1 SCR 117</td>\n",
              "      <td></td>\n",
              "      <td>SCC</td>\n",
              "      <td>1877</td>\n",
              "      <td>The Queen v. Laliberté</td>\n",
              "      <td>en</td>\n",
              "      <td>1877-02-03</td>\n",
              "      <td>https://decisions.scc-csc.ca/scc-csc/scc-csc/e...</td>\n",
              "      <td>2022-08-31</td>\n",
              "      <td>The Queen v. Laliberté\\nCollection\\nSupreme Co...</td>\n",
              "      <td></td>\n",
              "    </tr>\n",
              "    <tr>\n",
              "      <th>3</th>\n",
              "      <td>(1877) 1 SCR 145</td>\n",
              "      <td></td>\n",
              "      <td>SCC</td>\n",
              "      <td>1877</td>\n",
              "      <td>Brassard et al. v. Langevin</td>\n",
              "      <td>en</td>\n",
              "      <td>1877-02-28</td>\n",
              "      <td>https://decisions.scc-csc.ca/scc-csc/scc-csc/e...</td>\n",
              "      <td>2022-08-31</td>\n",
              "      <td>Brassard et al. v. Langevin\\nCollection\\nSupre...</td>\n",
              "      <td></td>\n",
              "    </tr>\n",
              "    <tr>\n",
              "      <th>4</th>\n",
              "      <td>(1877) 1 SCR 235</td>\n",
              "      <td></td>\n",
              "      <td>SCC</td>\n",
              "      <td>1877</td>\n",
              "      <td>Johnstone v. The Minister &amp; Trustees of St. An...</td>\n",
              "      <td>en</td>\n",
              "      <td>1877-06-28</td>\n",
              "      <td>https://decisions.scc-csc.ca/scc-csc/scc-csc/e...</td>\n",
              "      <td>2022-08-31</td>\n",
              "      <td>Johnstone v. The Minister &amp; Trustees of St. An...</td>\n",
              "      <td></td>\n",
              "    </tr>\n",
              "  </tbody>\n",
              "</table>\n",
              "</div>"
            ],
            "text/plain": [
              "           citation citation2 dataset  year  \\\n",
              "0  (1877) 1 SCR 110               SCC  1877   \n",
              "1  (1877) 1 SCR 114               SCC  1877   \n",
              "2  (1877) 1 SCR 117               SCC  1877   \n",
              "3  (1877) 1 SCR 145               SCC  1877   \n",
              "4  (1877) 1 SCR 235               SCC  1877   \n",
              "\n",
              "                                                name language document_date  \\\n",
              "0  Boak et al. v. The Merchant's Marine Insurance...       en    1877-01-23   \n",
              "1                                 Smyth v. McDougall       en    1877-02-01   \n",
              "2                             The Queen v. Laliberté       en    1877-02-03   \n",
              "3                        Brassard et al. v. Langevin       en    1877-02-28   \n",
              "4  Johnstone v. The Minister & Trustees of St. An...       en    1877-06-28   \n",
              "\n",
              "                                          source_url scraped_timestamp  \\\n",
              "0  https://decisions.scc-csc.ca/scc-csc/scc-csc/e...        2022-08-31   \n",
              "1  https://decisions.scc-csc.ca/scc-csc/scc-csc/e...        2022-08-31   \n",
              "2  https://decisions.scc-csc.ca/scc-csc/scc-csc/e...        2022-08-31   \n",
              "3  https://decisions.scc-csc.ca/scc-csc/scc-csc/e...        2022-08-31   \n",
              "4  https://decisions.scc-csc.ca/scc-csc/scc-csc/e...        2022-08-31   \n",
              "\n",
              "                                     unofficial_text other  \n",
              "0  Boak et al. v. The Merchant's Marine Insurance...        \n",
              "1  Smyth v. McDougall\\nCollection\\nSupreme Court ...        \n",
              "2  The Queen v. Laliberté\\nCollection\\nSupreme Co...        \n",
              "3  Brassard et al. v. Langevin\\nCollection\\nSupre...        \n",
              "4  Johnstone v. The Minister & Trustees of St. An...        "
            ]
          },
          "execution_count": 7,
          "metadata": {},
          "output_type": "execute_result"
        }
      ],
      "source": [
        "from datasets import load_dataset\n",
        "dataset = load_dataset(\"refugee-law-lab/canadian-legal-data\", split=\"train\", data_dir=\"SCC\")\n",
        "df = dataset.to_pandas()\n",
        "df.head()"
      ]
    },
    {
      "cell_type": "code",
      "execution_count": null,
      "metadata": {
        "id": "xqKsReJf3UJS",
        "outputId": "f2fb2ec2-3dcf-456f-fdf7-08a786440857"
      },
      "outputs": [
        {
          "data": {
            "text/plain": [
              "31"
            ]
          },
          "execution_count": 8,
          "metadata": {},
          "output_type": "execute_result"
        }
      ],
      "source": [
        "# filter df for languge = \"en\"\n",
        "df = df[df.language == \"en\"]\n",
        "\n",
        "# filter df for year = 2023\n",
        "df = df[df.year == 2023]\n",
        "\n",
        "len(df)"
      ]
    },
    {
      "cell_type": "code",
      "execution_count": null,
      "metadata": {
        "id": "-EBnZFm43UJS",
        "outputId": "92529170-29b6-4c4b-f59c-acae049462e7"
      },
      "outputs": [
        {
          "data": {
            "text/plain": [
              "3438592"
            ]
          },
          "execution_count": 9,
          "metadata": {},
          "output_type": "execute_result"
        }
      ],
      "source": [
        "# put df.unofficial_text into a single variable\n",
        "text = \" \".join(df.unofficial_text)\n",
        "len(text)"
      ]
    },
    {
      "cell_type": "code",
      "execution_count": null,
      "metadata": {
        "id": "nLFfqtBR3UJS",
        "outputId": "5d372f22-b9a9-4f7d-94c7-5b5d11e5b6be"
      },
      "outputs": [
        {
          "name": "stdout",
          "output_type": "stream",
          "text": [
            "Number of tokens in the text: 792067\n"
          ]
        }
      ],
      "source": [
        "# count tokens\n",
        "num_tokens = count_tokens(text)\n",
        "print(f\"Number of tokens in the text: {num_tokens}\")"
      ]
    },
    {
      "cell_type": "markdown",
      "metadata": {
        "id": "0cSI62o_3UJS"
      },
      "source": [
        "# Accessing the OpenAI API: A simple example"
      ]
    },
    {
      "cell_type": "code",
      "execution_count": null,
      "metadata": {
        "id": "H9ASTw383UJS"
      },
      "outputs": [],
      "source": [
        "# set up OpenAI API by setting the OPENAI_API_KEY as an environment variable (see above, secrets)\n",
        "\n",
        "# NOTE: Model pricing as of Feburary 2024:\n",
        "# Model: 'gpt-3.5-turbo-0125' Input: $0.0005 / 1K tokens Output:\t$0.0015 / 1K tokens: Context Length 16k tokens\n",
        "# Model: 'gpt-4-0125-preview' Input: $0.01 / 1K tokens\tOutput: $0.03 / 1K tokens Context Length: 128k tokens\n",
        "\n",
        "# !pip install openai\n",
        "\n",
        "from openai import OpenAI\n",
        "\n",
        "client = OpenAI()\n",
        "\n",
        "def get_completion(user_message,\n",
        "        system_message=\"You are a helpful assistant to a Canadian law student\",\n",
        "        model = \"gpt-3.5-turbo-0125\",\n",
        "        temperature = 0):\n",
        "\n",
        "    completion = client.chat.completions.create(\n",
        "        model=model,\n",
        "        temperature=temperature,\n",
        "        messages=[\n",
        "            {\"role\": \"system\", \"content\": system_message},\n",
        "            {\"role\": \"user\", \"content\": user_message}\n",
        "        ]\n",
        "    )\n",
        "    return completion.choices[0].message.content"
      ]
    },
    {
      "cell_type": "code",
      "execution_count": null,
      "metadata": {
        "id": "lQsbrrS53UJS",
        "outputId": "cc4850e2-f8ce-4c89-8a52-607fabc2db73"
      },
      "outputs": [
        {
          "data": {
            "text/plain": [
              "\"Hello! I'm here to help you with any questions you have. How can I assist you today?\""
            ]
          },
          "execution_count": 32,
          "metadata": {},
          "output_type": "execute_result"
        }
      ],
      "source": [
        "get_completion(\"Hello. How are you?\")"
      ]
    },
    {
      "cell_type": "code",
      "execution_count": null,
      "metadata": {
        "id": "9Pn0WduH3UJS",
        "outputId": "867a05cc-4344-434f-eaa5-d70192d07cbc"
      },
      "outputs": [
        {
          "data": {
            "text/plain": [
              "\"Bonjour. Je vais bien, merci. Comment puis-je vous aider aujourd'hui?\""
            ]
          },
          "execution_count": 33,
          "metadata": {},
          "output_type": "execute_result"
        }
      ],
      "source": [
        "get_completion(\"Hello. How are you?\", system_message = \"You only speak French\")"
      ]
    },
    {
      "cell_type": "code",
      "execution_count": null,
      "metadata": {
        "id": "QjP7oIDL3UJS",
        "outputId": "198842e2-9b8d-433a-b9d9-1357293d5def"
      },
      "outputs": [
        {
          "data": {
            "text/plain": [
              "'¡Hola! Estoy bien, ¿y tú? ¿En qué puedo ayudarte hoy?'"
            ]
          },
          "execution_count": 34,
          "metadata": {},
          "output_type": "execute_result"
        }
      ],
      "source": [
        "new_sys_message = \"You only speak Spanish\"\n",
        "\n",
        "get_completion(\"Hello. How are you?\", system_message = new_sys_message)"
      ]
    },
    {
      "cell_type": "code",
      "execution_count": null,
      "metadata": {
        "id": "SIEwuoBu3UJS",
        "outputId": "fda0f1d8-222d-46fe-b9cc-1f8a87a4f00f"
      },
      "outputs": [
        {
          "data": {
            "text/plain": [
              "'First year law ensnares,\\nCasebooks, briefs weave dense cocoons,\\nButterflies emerge.'"
            ]
          },
          "execution_count": 35,
          "metadata": {},
          "output_type": "execute_result"
        }
      ],
      "source": [
        "get_completion(\"Write a haiku about 1L\", temperature = 1.25, model = \"gpt-4-0125-preview\")"
      ]
    },
    {
      "cell_type": "code",
      "execution_count": null,
      "metadata": {
        "id": "EM9oEM693UJS",
        "outputId": "586abca4-0edd-4422-d8dd-cccfe105f388"
      },
      "outputs": [
        {
          "name": "stdout",
          "output_type": "stream",
          "text": [
            "Filing a patent in Canada involves a series of steps designed to protect your invention. The process is governed by the Patent Act (R.S.C., 1985, c. P-4) and the Patent Rules. Here's a general overview of the steps involved in filing a patent in Canada, along with references to the relevant legislation:\n",
            "\n",
            "### 1. Determine Patentability\n",
            "Before filing, you need to ensure your invention is patentable. According to the Patent Act (Section 2), an invention must be new, useful, and non-obvious.\n",
            "\n",
            "### 2. Conduct a Patent Search\n",
            "Although not mandatory, conducting a patent search can help determine if your invention is novel. This step is crucial to avoid filing for something already patented.\n",
            "\n",
            "### 3. Prepare Your Application\n",
            "A complete patent application includes a detailed description of the invention, claims that define the invention, an abstract, and, if applicable, drawings. The requirements for the content of a patent application are outlined in the Patent Rules (Sections 73-81).\n",
            "\n",
            "### 4. File Your Application\n",
            "You can file your patent application with the Canadian Intellectual Property Office (CIPO). Applications can be submitted online, by mail, or in person. The Patent Act (Section 27) and the Patent Rules provide guidance on how to file an application and what it must include.\n",
            "\n",
            "### 5. Request Examination\n",
            "After filing, you must formally request an examination of your patent application within a specific timeframe, as stipulated by the Patent Rules (Section 35). During the examination, a CIPO examiner will assess your application against the Patent Act and Rules criteria.\n",
            "\n",
            "### 6. Respond to Examiner's Report\n",
            "If the examiner finds issues with your application, they will issue a report. You will have the opportunity to respond and amend your application if necessary. This process may involve several rounds of correspondence (Patent Rules, Sections 86-94).\n",
            "\n",
            "### 7. Allowance and Grant\n",
            "If your application meets all requirements, it will be allowed. You will then need to pay the final fee for your patent to be granted (Patent Rules, Section 97).\n",
            "\n",
            "### 8. Maintenance\n",
            "After a patent is granted, you must pay maintenance fees to keep it in force, as outlined in the Patent Rules (Sections 45-46).\n",
            "\n",
            "### Key Legislation:\n",
            "- **Patent Act (R.S.C., 1985, c. P-4):** The primary legislation governing patents in Canada, outlining what can be patented, the rights of patent holders, and the legal framework for enforcement.\n",
            "- **Patent Rules:** These rules provide detailed procedures for filing a patent application, examination, and maintenance of patents in Canada.\n",
            "\n",
            "This overview provides a basic framework for filing a patent in Canada. However, the process can be complex, and the details of each step can vary depending on the specifics of the invention and any legal challenges that may arise. It's often advisable to consult with a patent agent or lawyer who specializes in intellectual property law to navigate the patent application process effectively.\n"
          ]
        }
      ],
      "source": [
        "response = get_completion(\"Explain the steps to file a patent. Cite the releveant legislation\", model = \"gpt-4-0125-preview\")\n",
        "print(response)"
      ]
    },
    {
      "cell_type": "markdown",
      "metadata": {
        "id": "hw7v17Rz3UJS"
      },
      "source": [
        "### OpenAI API: Adding Context"
      ]
    },
    {
      "cell_type": "code",
      "execution_count": null,
      "metadata": {
        "id": "N99-AGfj3UJS"
      },
      "outputs": [],
      "source": [
        "text = \"\"\"\n",
        "Courts have repeatedly held that negative inferences on the basis of plausibility are to\n",
        "made only in the clearest of cases due to the myriad of factors that can affect plausibility,\n",
        "especially in contexts involving cross-cultural and cross-linguistic communication, and in\n",
        "contexts where refugee claimants may be struggling with mental health issues and trauma (see\n",
        "Ascencio Perez v. Canada (Citizenship and Immigration), 2022 FC 215).\n",
        "\"\"\""
      ]
    },
    {
      "cell_type": "code",
      "execution_count": null,
      "metadata": {
        "id": "hs1La1l33UJT"
      },
      "outputs": [],
      "source": [
        "from datasets import load_dataset\n",
        "dataset = load_dataset(\"refugee-law-lab/canadian-legal-data\", split=\"train\", data_dir=\"FC\")\n",
        "df = dataset.to_pandas()"
      ]
    },
    {
      "cell_type": "code",
      "execution_count": null,
      "metadata": {
        "id": "V9KZCNwV3UJT",
        "outputId": "3517c39a-179c-4ec7-b485-2f6368b6fb6f"
      },
      "outputs": [
        {
          "name": "stdout",
          "output_type": "stream",
          "text": [
            "Ascencio Perez v. Canada (Citizenship and Immigration)\n",
            "Court (s) Database\n",
            "Federal Court Decisions\n",
            "Date\n",
            "2022-03-11\n",
            "Neutral citation\n",
            "2022 FC 215\n",
            "File numbers\n",
            "IMM-1835-21\n",
            "Decision Content\n",
            "Date: 20220311\n",
            "Docket: IMM-1835-21\n",
            "Citation: 2022 FC 215\n",
            "[ENGLISH TRANSLATION]\n",
            "Ottawa, Ontario, March 11, 2022\n",
            "PRESENT: The Honourable Justice Roy\n",
            "BNTWEEN:\n",
            "LUIS FRANCISCO ASCENCIO PEREZ\n",
            "LILIANA DEL PILAR LOPEZ LOPEZ\n",
            "SALOMON ASCENCIO LOPEZ\n",
            "EMILY ASCENCIO VIDES\n",
            "JACOB ASCENCIO LOPEZ\n",
            "Applicants\n",
            "and\n",
            "MINISTER OF CITIZEN\n"
          ]
        }
      ],
      "source": [
        "# get df.unofficial_text where citation = \"2022 FC 215\"\n",
        "case_text = df[df.citation == \"2022 FC 215\"].unofficial_text.values[0]\n",
        "print(case_text[:500])"
      ]
    },
    {
      "cell_type": "code",
      "execution_count": null,
      "metadata": {
        "id": "zu-RktRt3UJT"
      },
      "outputs": [],
      "source": [
        "user_message = f\"\"\"\n",
        "CONTEXT: THIS IS A CASE THAT IS CITED: {case_text}\n",
        "___________\n",
        "CONTEXT: THIS IS A TEXT CITING THE CASE: {text}\n",
        "___________\n",
        "QUESTION: Is the text citing the case in a way that is fair and accurate. If not, why not?\n",
        "\"\"\"\n",
        "\n",
        "response = get_completion(user_message, model = \"gpt-4-0125-preview\", temperature = 0.5)"
      ]
    },
    {
      "cell_type": "code",
      "execution_count": null,
      "metadata": {
        "id": "qd0_uPKj3UJT",
        "outputId": "5b916234-f33f-417e-8b87-d8751a079f5e"
      },
      "outputs": [
        {
          "name": "stdout",
          "output_type": "stream",
          "text": [
            "The text citing Ascencio Perez v. Canada (Citizenship and Immigration), 2022 FC 215, makes a general statement about the caution courts should exercise when drawing negative inferences based on the plausibility of a claimant's story, especially in the context of cross-cultural and cross-linguistic communication, as well as when dealing with claimants who may be experiencing mental health issues and trauma. This statement is a fair general principle in refugee law and the assessment of evidence. However, the Ascencio Perez case itself, as detailed in the judgment, primarily focused on the credibility of the incidents reported by the claimants and the availability of an internal flight alternative in Colombia. The Federal Court's decision, as written by Justice Roy, did not explicitly address the broader issue of negative inferences based on plausibility in the context of cross-cultural communication or mental health issues and trauma.\n",
            "\n",
            "The decision did indeed involve a detailed assessment of the credibility of the claimants' narrative and the evidence they provided to support their claim for refugee protection. The Court found issues with the credibility of certain incidents beyond the threatening calls, the connection of these incidents to the claimants' need for protection, and the viability of an internal flight alternative within Colombia. The judgment meticulously analyzed the evidence presented by the claimants and the reasoning of the Refugee Appeal Division (RAD) and the Refugee Protection Division (RPD), concluding that the RAD's decision was reasonable.\n",
            "\n",
            "While the principle cited in the text is important and relevant to refugee law, the specific case of Ascencio Perez v. Canada (Citizenship and Immigration) does not directly address the caution against negative inferences based solely on the plausibility of a claimant's story in the context of cross-cultural and cross-linguistic communication or mental health issues. Therefore, while the principle is valid, its direct attribution to the Ascencio Perez case may not be entirely accurate, as the case's focus was more on the credibility assessment of specific incidents and the internal flight alternative rather than on the broader issue of plausibility inferences in cross-cultural contexts or involving mental health considerations.\n"
          ]
        }
      ],
      "source": [
        "print(response)"
      ]
    },
    {
      "cell_type": "markdown",
      "metadata": {
        "id": "D0VmW_Tq3UJT"
      },
      "source": [
        "# OpenAI API: Few Shot Learning"
      ]
    },
    {
      "cell_type": "code",
      "execution_count": null,
      "metadata": {
        "id": "c1MrGaeh3UJT"
      },
      "outputs": [],
      "source": [
        "user_message = f\"\"\"\n",
        "INPUT: Ottawa 19-AUG-2010  BEFORE The Honourable Mr. Justice Russell  Language: E  Before the Court:  Motion Doc. No. 3 on behalf of Applicant  Result of Hearing:  Matter dismissed  held by way of Conference Call in chambers  Duration per day:  19-AUG-2010 from 04:00 to 05:20  Courtroom : Judge's Chambers - Ottawa  Court Registrar: Jennifer Jones  Total Duration: 1h20  Appearances:  Lloyd Peter James 416-737-4286 representing Applicant  Suranjana Bhattacharyya 416-973-6716 representing Respondent  Comments: Counsel for the Respondent had two preliminary matters: 1)a law student was  in attendance to confirm that the Respondent's Authorities had been served  upon the Applicant prior to the Hearing; and 2)the proper Respondent should  be the Minister of Public Safety and Emergency Preparedness, not the  Minister of Citizenship and Immigration.  Minutes of Hearing entered in Vol. 236 page(s) 155 - 158  Abstract of Hearing placed on file\n",
        "OUTPUT: 1h20m\n",
        "INPUT: Toronto 17-JAN-2019  BEFORE The Honourable Madam Justice Elliott  Language: E  Before the Court:  Motion Doc. No. 3 on behalf of Applicant  Result of Hearing:  Matter reserved  held by way of Conference Call  Duration per day:  17-JAN-2019 from 11:30 to 12:23  Courtroom : Judge's Chambers - Toronto  Court Registrar: Alice Prodan Gil  Total Duration: 53min  Appearances:  Barbara Jackman/Sarah Boyd 416-653-9964 representing Applicant  Alex Kam 647-256-0743 representing Respondent  Comments: DARS back up used.  Minutes of Hearing entered in Vol. 368 page(s) 197 - 198  Abstract of Hearing placed on file\n",
        "OUPUT: 53m\n",
        "INPUT: Toronto 13-OCT-2012  BEFORE The Honourable Mr. Justice O'Keefe  Language: E  Before the Court:  Motion Doc. No. 3 on behalf of Applicant  Result of Hearing:  Matter reserved  held by way of Conference Call  Duration per day:  18-OCT-2012 from 12:00 to 01:30  Courtroom : Judge's Chambers - Toronto  Court Registrar: Charles Skelton  Total Duration: 1h30min  Appearances:  Adela Crossley 416-850-1073 representing Applicant  Tamrat Gebeyehu 416-973-9665 representing Respondent  Minutes of Hearing entered in Vol. 273 page(s) 8 - 9  Abstract of Hearing placed on file\n",
        "OUTPUT: 1h30m\n",
        "INPUT: Ottawa 16-JUL-2007  BEFORE The Honourable Madam Justice Snider  Language: E  Before the Court:  Motion Doc. No. 4 on behalf of Applicant  Result of Hearing: Heard with IMM-5405-06. Motion withdrawn.  held by way of Conference Call  Duration per day:  16-JUL-2007 from 09:30 to 11:30  Courtroom : Teleconference Room No. 1 - Toronto  Court Registrar: Lhaden Bhutia  Total Duration: 2h  Appearances:  Ronald Poulton 416-862-0000 representing Applicant  John Provart 416-973-1346 representing Respondent  Minutes of Hearing entered in Vol. 195 page(s) 345 - 350  Abstract of Hearing placed on file\n",
        "OUTPUT:\"\"\"\n",
        "response = get_completion(user_message, temperature = 0)"
      ]
    },
    {
      "cell_type": "code",
      "execution_count": null,
      "metadata": {
        "id": "YPxhUPsx3UJT",
        "outputId": "715863f7-1917-4944-8fd9-a2b361a51a1e"
      },
      "outputs": [
        {
          "data": {
            "text/plain": [
              "'2h'"
            ]
          },
          "execution_count": 80,
          "metadata": {},
          "output_type": "execute_result"
        }
      ],
      "source": [
        "response"
      ]
    }
  ],
  "metadata": {
    "kernelspec": {
      "display_name": "venv",
      "language": "python",
      "name": "python3"
    },
    "language_info": {
      "codemirror_mode": {
        "name": "ipython",
        "version": 3
      },
      "file_extension": ".py",
      "mimetype": "text/x-python",
      "name": "python",
      "nbconvert_exporter": "python",
      "pygments_lexer": "ipython3",
      "version": "3.11.4"
    },
    "colab": {
      "provenance": [],
      "include_colab_link": true
    }
  },
  "nbformat": 4,
  "nbformat_minor": 0
}